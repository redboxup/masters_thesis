{
  "cells": [
    {
      "cell_type": "code",
      "execution_count": null,
      "metadata": {
        "id": "dGJiazqfinr5"
      },
      "outputs": [],
      "source": [
        "import gym\n",
        "import numpy as np\n",
        "import sys\n",
        "if \"../\" not in sys.path:\n",
        "    sys.path.append(\"../\")\n",
        "from collections import defaultdict\n",
        "\n",
        "import itertools\n",
        "import collections\n",
        "from typing import Any,List,Sequence,Tuple\n",
        "import tqdm\n",
        "# Small epsilon value for stabilizing division operations\n",
        "eps = np.finfo(np.float32).eps.item()\n"
      ]
    },
    {
      "cell_type": "code",
      "source": [
        "#@title Environment of Windy grid\n",
        "import gym\n",
        "import numpy as np\n",
        "import sys\n",
        "from gym.envs.toy_text import discrete\n",
        "\n",
        "UP = 0\n",
        "RIGHT = 1\n",
        "DOWN = 2\n",
        "LEFT = 3\n",
        "\n",
        "class WindyGridworldEnv(discrete.DiscreteEnv):\n",
        "\n",
        "    metadata = {'render.modes': ['human', 'ansi']}\n",
        "\n",
        "    def _limit_coordinates(self, coord):\n",
        "        coord[0] = min(coord[0], self.shape[0] - 1)\n",
        "        coord[0] = max(coord[0], 0)\n",
        "        coord[1] = min(coord[1], self.shape[1] - 1)\n",
        "        coord[1] = max(coord[1], 0)\n",
        "        return coord\n",
        "\n",
        "    def _calculate_transition_prob(self, current, delta, winds):\n",
        "        new_position = np.array(current) + np.array(delta) + np.array([-1, 0]) * winds[tuple(current)]\n",
        "        new_position = self._limit_coordinates(new_position).astype(int)\n",
        "        new_state = np.ravel_multi_index(tuple(new_position), self.shape)\n",
        "        is_done = tuple(new_position) == (3, 7)\n",
        "        return [(1.0, new_state, -1.0, is_done)]\n",
        "\n",
        "    def __init__(self):\n",
        "        self.shape = (7, 10)\n",
        "\n",
        "        nS = np.prod(self.shape)\n",
        "        nA = 4\n",
        "\n",
        "        # Wind strength\n",
        "        winds = np.zeros(self.shape)\n",
        "        winds[:,[3,5,8]] = 1\n",
        "        winds[:,[6,7]] = 3\n",
        "\n",
        "        # Calculate transition probabilities\n",
        "        P = {}\n",
        "        for s in range(nS):\n",
        "            position = np.unravel_index(s, self.shape)\n",
        "            P[s] = { a : [] for a in range(nA) }\n",
        "            P[s][UP] = self._calculate_transition_prob(position, [-1, 0], winds)\n",
        "            P[s][RIGHT] = self._calculate_transition_prob(position, [0, 1], winds)\n",
        "            P[s][DOWN] = self._calculate_transition_prob(position, [1, 0], winds)\n",
        "            P[s][LEFT] = self._calculate_transition_prob(position, [0, -1], winds)\n",
        "\n",
        "        # We always start in state (3, 0)\n",
        "        isd = np.zeros(nS)\n",
        "        isd[np.ravel_multi_index((3,0), self.shape)] = 1.0\n",
        "\n",
        "        super(WindyGridworldEnv, self).__init__(nS, nA, P, isd)\n",
        "\n",
        "    def render(self, mode='human', close=False):\n",
        "        self._render(mode, close)\n",
        "\n",
        "    def _render(self, mode='human', close=False):\n",
        "        if close:\n",
        "            return\n",
        "\n",
        "        outfile = StringIO() if mode == 'ansi' else sys.stdout\n",
        "\n",
        "        for s in range(self.nS):\n",
        "            position = np.unravel_index(s, self.shape)\n",
        "            # print(self.s)\n",
        "            if self.s == s:\n",
        "                output = \" x \"\n",
        "            elif position == (3,7):\n",
        "                output = \" T \"\n",
        "            else:\n",
        "                output = \" o \"\n",
        "\n",
        "            if position[1] == 0:\n",
        "                output = output.lstrip()\n",
        "            if position[1] == self.shape[1] - 1:\n",
        "                output = output.rstrip()\n",
        "                output += \"\\n\"\n",
        "\n",
        "            outfile.write(output)\n",
        "        outfile.write(\"\\n\")"
      ],
      "metadata": {
        "id": "wIgPmLhBi5H-"
      },
      "execution_count": null,
      "outputs": []
    },
    {
      "cell_type": "code",
      "execution_count": null,
      "metadata": {
        "id": "15Gh-b5PinsC"
      },
      "outputs": [],
      "source": [
        "env = WindyGridworldEnv()"
      ]
    },
    {
      "cell_type": "code",
      "execution_count": null,
      "metadata": {
        "colab": {
          "base_uri": "https://localhost:8080/"
        },
        "id": "bY9L8Y53insF",
        "outputId": "af33579b-7fe1-4004-d0a5-05d4a99c78a9"
      },
      "outputs": [
        {
          "output_type": "stream",
          "name": "stdout",
          "text": [
            "30\n"
          ]
        }
      ],
      "source": [
        "print(env.reset())"
      ]
    },
    {
      "cell_type": "code",
      "execution_count": null,
      "metadata": {
        "colab": {
          "base_uri": "https://localhost:8080/"
        },
        "id": "DdBKO0MZinsI",
        "outputId": "919ff970-34ac-49a7-d651-8177438b6869"
      },
      "outputs": [
        {
          "output_type": "stream",
          "name": "stdout",
          "text": [
            "o  o  o  o  o  o  o  o  o  o\n",
            "o  o  o  o  o  o  o  o  o  o\n",
            "o  o  o  o  o  o  o  o  o  o\n",
            "x  o  o  o  o  o  o  T  o  o\n",
            "o  o  o  o  o  o  o  o  o  o\n",
            "o  o  o  o  o  o  o  o  o  o\n",
            "o  o  o  o  o  o  o  o  o  o\n",
            "\n"
          ]
        }
      ],
      "source": [
        "env.render()"
      ]
    },
    {
      "cell_type": "code",
      "source": [
        "# Up:0; Right:1; Down:2; Left:3; \n",
        "env.step(2)\n",
        "env.render()"
      ],
      "metadata": {
        "colab": {
          "base_uri": "https://localhost:8080/"
        },
        "id": "eRWRgSualV_z",
        "outputId": "b0c00e3f-f575-49b9-ed70-ff166af7a818"
      },
      "execution_count": null,
      "outputs": [
        {
          "output_type": "stream",
          "name": "stdout",
          "text": [
            "o  o  o  o  o  o  o  o  o  o\n",
            "o  o  o  o  o  o  o  o  o  o\n",
            "o  o  o  o  o  o  o  o  o  o\n",
            "o  o  o  o  o  o  o  T  o  o\n",
            "x  o  o  o  o  o  o  o  o  o\n",
            "o  o  o  o  o  o  o  o  o  o\n",
            "o  o  o  o  o  o  o  o  o  o\n",
            "\n"
          ]
        }
      ]
    },
    {
      "cell_type": "code",
      "source": [
        "env.reset()"
      ],
      "metadata": {
        "colab": {
          "base_uri": "https://localhost:8080/"
        },
        "id": "FLbNQW-5luu1",
        "outputId": "b37b0663-af54-48b5-8c3a-7e9b431203c8"
      },
      "execution_count": null,
      "outputs": [
        {
          "output_type": "execute_result",
          "data": {
            "text/plain": [
              "30"
            ]
          },
          "metadata": {},
          "execution_count": 7
        }
      ]
    },
    {
      "cell_type": "code",
      "source": [
        "#policy neural network\n",
        "#let us initialise parameters in a q matrix of size N_a x N_s\n",
        "q = np.ones([4,70])\n",
        "#let us define a function that will return z(s,a) matrices\n",
        "def z(state,action):\n",
        "  z_ = np.zeros([70,4])\n",
        "  z_[state][action] = 1\n",
        "  return z_"
      ],
      "metadata": {
        "id": "yI4NQMTDrKe9"
      },
      "execution_count": null,
      "outputs": []
    },
    {
      "cell_type": "code",
      "source": [
        "#let us now define the h function\n",
        "def h(s_i,a_j):\n",
        "  z_ = z(s_i,a_j)\n",
        "  h_ = q[a_j][s_i]*z_[s_i][a_j]\n",
        "  return h_"
      ],
      "metadata": {
        "id": "5D-bI0ErVG9u"
      },
      "execution_count": null,
      "outputs": []
    },
    {
      "cell_type": "code",
      "source": [
        "q[3][5] = 1\n",
        "h(5,3)\n",
        "np.exp(h(5,3))"
      ],
      "metadata": {
        "colab": {
          "base_uri": "https://localhost:8080/"
        },
        "id": "a7uGB2o3VHAU",
        "outputId": "e1972dff-a741-4f30-941b-bf36fedc3eda"
      },
      "execution_count": null,
      "outputs": [
        {
          "output_type": "execute_result",
          "data": {
            "text/plain": [
              "2.718281828459045"
            ]
          },
          "metadata": {},
          "execution_count": 10
        }
      ]
    },
    {
      "cell_type": "code",
      "source": [
        "#now let us define the policy function\n",
        "def policy(state):\n",
        "  sum = 0\n",
        "  p = []\n",
        "  for j in range(4):\n",
        "    sum += np.exp(h(state,j))\n",
        "  #now probability corresponding to the action\n",
        "  for j in range(4):\n",
        "    p_ = np.exp(h(state,j))/sum\n",
        "    p.append(p_)\n",
        "  return p"
      ],
      "metadata": {
        "id": "uvBzUGzFVHDu"
      },
      "execution_count": null,
      "outputs": []
    },
    {
      "cell_type": "code",
      "source": [
        "#code to sample an action from given probability distribution\n",
        "def sample_action(state):\n",
        "  prob_action = policy(state)\n",
        "  action = np.random.choice(np.arange(4),p = prob_action)\n",
        "  return action"
      ],
      "metadata": {
        "id": "gbgBHqO1jPAi"
      },
      "execution_count": null,
      "outputs": []
    },
    {
      "cell_type": "code",
      "source": [
        "policy(50)"
      ],
      "metadata": {
        "colab": {
          "base_uri": "https://localhost:8080/"
        },
        "id": "HFVVw9RPkYTW",
        "outputId": "e91a1156-ea83-4e7d-aabd-09386b174cb9"
      },
      "execution_count": null,
      "outputs": [
        {
          "output_type": "execute_result",
          "data": {
            "text/plain": [
              "[0.25, 0.25, 0.25, 0.25]"
            ]
          },
          "metadata": {},
          "execution_count": 13
        }
      ]
    },
    {
      "cell_type": "code",
      "source": [
        "sample_action(50)"
      ],
      "metadata": {
        "colab": {
          "base_uri": "https://localhost:8080/"
        },
        "id": "sFc-ZyK0VHIT",
        "outputId": "9440b0f9-507d-443e-c949-8a2dd574504b"
      },
      "execution_count": null,
      "outputs": [
        {
          "output_type": "execute_result",
          "data": {
            "text/plain": [
              "1"
            ]
          },
          "metadata": {},
          "execution_count": 14
        }
      ]
    },
    {
      "cell_type": "code",
      "source": [
        "#convert state into is feature vector\n",
        "def y(s):\n",
        "  s_v = np.zeros(70)\n",
        "  s_v[s] = 1\n",
        "  return s_v"
      ],
      "metadata": {
        "id": "vJkqbdyoE5pV"
      },
      "execution_count": null,
      "outputs": []
    },
    {
      "cell_type": "code",
      "execution_count": null,
      "metadata": {
        "id": "GSJIc2Lcinsf"
      },
      "outputs": [],
      "source": [
        "#state-value function linear approximation\n",
        "def v(w,s):\n",
        "  s_v = y(s)\n",
        "  return np.dot(w.T,s_v)\n",
        "\n",
        "#gradient of state-value function\n",
        "def grad_v(w,s):\n",
        "  s_v = y(s)\n",
        "  return s_v\n",
        "\n",
        "#let us initialise weights of the state-value function\n",
        "#w = np.random.rand(70)\n",
        "w = np.ones(70)"
      ]
    },
    {
      "cell_type": "code",
      "source": [
        "#let us get some expected value\n",
        "v(w,50)"
      ],
      "metadata": {
        "id": "hPOta3ZrrzgE",
        "colab": {
          "base_uri": "https://localhost:8080/"
        },
        "outputId": "a2a195dd-ba36-4e47-9223-8728bc54d08d"
      },
      "execution_count": null,
      "outputs": [
        {
          "output_type": "execute_result",
          "data": {
            "text/plain": [
              "1.0"
            ]
          },
          "metadata": {},
          "execution_count": 17
        }
      ]
    },
    {
      "cell_type": "code",
      "source": [
        "#main part of the code\n",
        "#initialising step-size vector\n",
        "alpha = 0.001\n",
        "alpha_w = alpha*np.ones(np.shape(w))\n",
        "alpha_q = alpha*np.ones(np.shape(q))"
      ],
      "metadata": {
        "id": "iJHO4u1NrzoB"
      },
      "execution_count": null,
      "outputs": []
    },
    {
      "cell_type": "code",
      "source": [
        "#defining important parameters\n",
        "gamma = 1"
      ],
      "metadata": {
        "id": "fzVnyHEkt-Cs"
      },
      "execution_count": null,
      "outputs": []
    },
    {
      "cell_type": "code",
      "source": [
        "#loop forever(for each episode)\n",
        "def run_episode(q,w):\n",
        "  #first state will be\n",
        "  state = env.reset()\n",
        "  is_done = False \n",
        "  I = 1\n",
        "  #loop while S is not terminal for each time step\n",
        "  no_step = 0\n",
        "  total_reward = 0\n",
        "  while is_done == False:\n",
        "    #sample an action using the policy\n",
        "    action = sample_action(state)\n",
        "    #take the action A, observe S', R\n",
        "    new_state, reward, is_done, _ = env.step(action)\n",
        "    if is_done == True:\n",
        "      delta = reward + gamma*0 -v(w,state)\n",
        "    else:\n",
        "      delta = reward + gamma*v(w,new_state) -v(w,state)\n",
        "    #defining some important parameters\n",
        "    r_exp = reward + v(w,new_state)\n",
        "    beta = r_exp - v(w,state)\n",
        "    #now we will update the weight parameters\n",
        "    #using adam-algorithm we will write the standard stochastic gradient descent as\n",
        "    z_times_policy = 0\n",
        "    prob_action = policy(state)\n",
        "    for i in range(4):\n",
        "      z_times_policy += prob_action[i]*z(state,i)\n",
        "    z_ = z(state,action)\n",
        "    z_times_policy = z_times_policy.transpose()\n",
        "    z_ = z_.transpose()\n",
        "    q += alpha*beta*(z_-z_times_policy)\n",
        "    w += alpha*beta*y(state)\n",
        "    no_step += 1\n",
        "    total_reward += reward\n",
        "    #print(state,action,reward,no_step)\n",
        "    state = new_state\n",
        "  return no_step,total_reward"
      ],
      "metadata": {
        "id": "fpBBg5vOg1p3"
      },
      "execution_count": null,
      "outputs": []
    },
    {
      "cell_type": "code",
      "source": [
        "#to run an episode but not update its values\n",
        "def run_episode_dont_update(q,w):\n",
        "  state = env.reset()\n",
        "  is_done = False\n",
        "  #loop while S is not terminal for each time step\n",
        "  no_step = 0\n",
        "  total_reward = 0\n",
        "  while is_done == False:\n",
        "    action = sample_action(state)\n",
        "    new_state, reward, is_done, _ = env.step(action)\n",
        "    no_step += 1\n",
        "    total_reward += reward\n",
        "    state = new_state\n",
        "  return no_step,total_reward"
      ],
      "metadata": {
        "id": "Xw8vg4Ts2SJx"
      },
      "execution_count": null,
      "outputs": []
    },
    {
      "cell_type": "code",
      "source": [
        "steps,G = run_episode(q,w)\n",
        "print(steps,G)"
      ],
      "metadata": {
        "colab": {
          "base_uri": "https://localhost:8080/"
        },
        "id": "6crTR9WBg2Ah",
        "outputId": "5371b953-9f8c-4b59-df84-113b49911641"
      },
      "execution_count": null,
      "outputs": [
        {
          "output_type": "stream",
          "name": "stdout",
          "text": [
            "9121 -9121.0\n"
          ]
        }
      ]
    },
    {
      "cell_type": "code",
      "source": [
        "#let us find the mean for the model\n",
        "steps, G = run_episode_dont_update(q,w)\n",
        "print(steps,G)"
      ],
      "metadata": {
        "colab": {
          "base_uri": "https://localhost:8080/"
        },
        "id": "NYOTXSwK38FD",
        "outputId": "7c9196a0-41dc-4e59-d512-94f36093d7cb"
      },
      "execution_count": null,
      "outputs": [
        {
          "output_type": "stream",
          "name": "stdout",
          "text": [
            "17026 -17026.0\n"
          ]
        }
      ]
    },
    {
      "cell_type": "code",
      "source": [
        "#let us create a plot to see how the model behaves over 150 episodes\n",
        "reward_tot = []\n",
        "no_episodes = []\n",
        "tot_episodes = 0\n",
        "N = 150\n",
        "for i in range(20):\n",
        "  rew = 0\n",
        "  for j in range(N):\n",
        "    steps,rew_temp = run_episode_dont_update(q,w)\n",
        "    rew += rew_temp\n",
        "  rew_avg = rew/N\n",
        "  reward_tot.append(rew_avg)\n",
        "  no_episodes.append(tot_episodes)\n",
        "  #now we will train the model for 100 episodes with updates\n",
        "  for j in range(100):\n",
        "    a, b = run_episode(q,w)\n",
        "  tot_episodes += 100"
      ],
      "metadata": {
        "id": "QxJHIdofj6BD"
      },
      "execution_count": null,
      "outputs": []
    },
    {
      "cell_type": "code",
      "source": [
        "print(reward_tot)"
      ],
      "metadata": {
        "id": "_LvyR5fkj6PD",
        "colab": {
          "base_uri": "https://localhost:8080/"
        },
        "outputId": "059b5f5e-1548-4ef4-cc08-cc84b7fd63b6"
      },
      "execution_count": null,
      "outputs": [
        {
          "output_type": "stream",
          "name": "stdout",
          "text": [
            "[-6630.66, -617.06, -363.7, -251.66, -206.67333333333335, -227.72, -180.46, -162.54666666666665, -148.79333333333332, -133.69333333333333, -124.56, -107.87333333333333, -113.4, -92.6, -98.36, -98.2, -87.92666666666666, -94.17333333333333, -93.40666666666667, -87.46666666666667]\n"
          ]
        }
      ]
    },
    {
      "cell_type": "code",
      "source": [
        "print(no_episodes)"
      ],
      "metadata": {
        "id": "jOHJJjERrzws",
        "colab": {
          "base_uri": "https://localhost:8080/"
        },
        "outputId": "5bdefc62-9db2-4247-b691-43f859f73211"
      },
      "execution_count": null,
      "outputs": [
        {
          "output_type": "stream",
          "name": "stdout",
          "text": [
            "[0, 100, 200, 300, 400, 500, 600, 700, 800, 900, 1000, 1100, 1200, 1300, 1400, 1500, 1600, 1700, 1800, 1900]\n"
          ]
        }
      ]
    },
    {
      "cell_type": "code",
      "source": [
        "#let us plot the above results\n",
        "import matplotlib.pyplot as plt\n",
        "plt.plot(no_episodes,reward_tot)\n",
        "plt.xlabel(\"No. of episodes\")\n",
        "plt.ylabel(\"Total Reward\")\n",
        "plt.figure(figsize=(15,10))\n"
      ],
      "metadata": {
        "colab": {
          "base_uri": "https://localhost:8080/",
          "height": 314
        },
        "id": "29WYp7679kHw",
        "outputId": "24a74627-689e-4139-e43e-a4514208541a"
      },
      "execution_count": null,
      "outputs": [
        {
          "output_type": "execute_result",
          "data": {
            "text/plain": [
              "<Figure size 1080x720 with 0 Axes>"
            ]
          },
          "metadata": {},
          "execution_count": 27
        },
        {
          "output_type": "display_data",
          "data": {
            "text/plain": [
              "<Figure size 432x288 with 1 Axes>"
            ],
            "image/png": "[encoded data removed]"
          },
          "metadata": {
            "needs_background": "light"
          }
        },
        {
          "output_type": "display_data",
          "data": {
            "text/plain": [
              "<Figure size 1080x720 with 0 Axes>"
            ]
          },
          "metadata": {}
        }
      ]
    },
    {
      "cell_type": "code",
      "source": [
        "#now we want to plot all the trajectories to see what the density is like\n",
        "def state2coord(state):\n",
        "  a,b = divmod(state,10)\n",
        "  return a,b"
      ],
      "metadata": {
        "id": "jnkYl0h_9kKl"
      },
      "execution_count": null,
      "outputs": []
    },
    {
      "cell_type": "code",
      "source": [
        ""
      ],
      "metadata": {
        "id": "eauKBZpUAKyr"
      },
      "execution_count": null,
      "outputs": []
    },
    {
      "cell_type": "code",
      "source": [
        "#we want to write a function that will give a count of each trajectory\n",
        "times_visited = np.zeros([7,10])\n",
        "#we will sample 50 trajectories and keep a count of each state visited\n",
        "no_steps = []\n",
        "Tot_steps = 0\n",
        "for t in range(50):\n",
        "  state = env.reset()\n",
        "  times_visited[3][0] += 1\n",
        "  no_steps_this_loop = 0\n",
        "  is_done = False\n",
        "  while is_done == False:\n",
        "    action = sample_action(state)\n",
        "    new_state, reward, is_done, _ = env.step(action)\n",
        "    state = new_state\n",
        "    a,b = divmod(state,10)\n",
        "    times_visited[a][b] += 1\n",
        "    no_steps_this_loop +=1\n",
        "    Tot_steps += 1\n",
        "  no_steps.append(no_steps_this_loop)"
      ],
      "metadata": {
        "id": "tsuRD7-kAK1P"
      },
      "execution_count": null,
      "outputs": []
    },
    {
      "cell_type": "code",
      "source": [
        "av_steps = Tot_steps/50\n",
        "print(av_steps)"
      ],
      "metadata": {
        "colab": {
          "base_uri": "https://localhost:8080/"
        },
        "id": "PNKsXFx3AK36",
        "outputId": "0a91890e-5417-4d6b-d3e7-7dec95e06f51"
      },
      "execution_count": null,
      "outputs": [
        {
          "output_type": "stream",
          "name": "stdout",
          "text": [
            "78.12\n"
          ]
        }
      ]
    },
    {
      "cell_type": "code",
      "source": [
        "times_visited"
      ],
      "metadata": {
        "colab": {
          "base_uri": "https://localhost:8080/"
        },
        "id": "o4aFLmC_AK6i",
        "outputId": "dbde566e-0adb-4742-bea0-c104312924d1"
      },
      "execution_count": null,
      "outputs": [
        {
          "output_type": "execute_result",
          "data": {
            "text/plain": [
              "array([[  6.,  19.,  21.,   9.,  87.,  81.,  63.,  44.,  69.,  77.],\n",
              "       [ 14.,  21.,  17.,  16.,  95.,  38.,  37.,  30.,  11.,  76.],\n",
              "       [ 40.,  29.,  30.,  20., 108.,  58.,  17.,  31.,   7.,  73.],\n",
              "       [ 95.,  69.,  65.,  25., 125.,  41.,  24.,  50.,   8.,  87.],\n",
              "       [ 60.,  73.,  82.,  40., 141.,  45.,  46.,   8.,  56.,  92.],\n",
              "       [ 92., 104., 116.,  59., 181.,  93.,  51.,   4.,  22.,  41.],\n",
              "       [ 89., 101., 125., 101., 126., 138.,   0.,   0.,   9.,  28.]])"
            ]
          },
          "metadata": {},
          "execution_count": 31
        }
      ]
    },
    {
      "cell_type": "code",
      "source": [
        "import seaborn as sns\n",
        "sns.set(rc = {'figure.figsize':(15,10)})\n",
        "ax = sns.heatmap(times_visited,linewidth = 0.5)"
      ],
      "metadata": {
        "colab": {
          "base_uri": "https://localhost:8080/",
          "height": 594
        },
        "id": "Pp6CFecPJfps",
        "outputId": "c7223d0f-fdd4-406b-a0d4-a30a4919858e"
      },
      "execution_count": null,
      "outputs": [
        {
          "output_type": "display_data",
          "data": {
            "text/plain": [
              "<Figure size 1080x720 with 2 Axes>"
            ],
            "image/png": "[encoded data removed]"
          },
          "metadata": {}
        }
      ]
    },
    {
      "cell_type": "code",
      "source": [
        "#now we want to change the learning rate and retrain the model to make it better\n",
        "alpha = 0.1\n",
        "\n"
      ],
      "metadata": {
        "id": "g1hcb9uaJfsj"
      },
      "execution_count": null,
      "outputs": []
    },
    {
      "cell_type": "code",
      "source": [
        "#let us create a plot to see how the model behaves over 150 episodes\n",
        "reward_tot = []\n",
        "no_episodes = []\n",
        "tot_episodes = 0\n",
        "N = 150\n",
        "for i in range(20):\n",
        "  rew = 0\n",
        "  for j in range(N):\n",
        "    steps,rew_temp = run_episode_dont_update(q,w)\n",
        "    rew += rew_temp\n",
        "  rew_avg = rew/N\n",
        "  reward_tot.append(rew_avg)\n",
        "  no_episodes.append(tot_episodes)\n",
        "  #now we will train the model for 100 episodes with updates\n",
        "  for j in range(100):\n",
        "    a, b = run_episode(q,w)\n",
        "  tot_episodes += 100"
      ],
      "metadata": {
        "id": "IRREaitfjQTf"
      },
      "execution_count": null,
      "outputs": []
    },
    {
      "cell_type": "code",
      "source": [
        "#we want to write a function that will give a count of each trajectory\n",
        "times_visited = np.zeros([7,10])\n",
        "#we will sample 50 trajectories and keep a count of each state visited\n",
        "no_steps = []\n",
        "Tot_steps = 0\n",
        "for t in range(50):\n",
        "  state = env.reset()\n",
        "  times_visited[3][0] += 1\n",
        "  no_steps_this_loop = 0\n",
        "  is_done = False\n",
        "  while is_done == False:\n",
        "    action = sample_action(state)\n",
        "    new_state, reward, is_done, _ = env.step(action)\n",
        "    state = new_state\n",
        "    a,b = divmod(state,10)\n",
        "    times_visited[a][b] += 1\n",
        "    no_steps_this_loop +=1\n",
        "    Tot_steps += 1\n",
        "  no_steps.append(no_steps_this_loop)"
      ],
      "metadata": {
        "id": "y6UJclrViw92"
      },
      "execution_count": null,
      "outputs": []
    },
    {
      "cell_type": "code",
      "source": [
        "av_steps = Tot_steps/50\n",
        "print(av_steps)"
      ],
      "metadata": {
        "colab": {
          "base_uri": "https://localhost:8080/"
        },
        "outputId": "5526972a-a78f-4f58-c8af-3178029d1893",
        "id": "DuJWhKB1i1y9"
      },
      "execution_count": null,
      "outputs": [
        {
          "output_type": "stream",
          "name": "stdout",
          "text": [
            "16.02\n"
          ]
        }
      ]
    },
    {
      "cell_type": "code",
      "source": [
        "times_visited"
      ],
      "metadata": {
        "id": "6qExdyxDJfyN",
        "colab": {
          "base_uri": "https://localhost:8080/"
        },
        "outputId": "cfbe5efe-fcc0-49c2-b925-40727a47b2a8"
      },
      "execution_count": null,
      "outputs": [
        {
          "output_type": "execute_result",
          "data": {
            "text/plain": [
              "array([[ 0.,  0.,  0.,  0.,  0.,  0.,  0., 50., 50., 50.],\n",
              "       [ 0.,  0.,  0.,  0.,  0.,  0.,  0.,  0.,  0., 50.],\n",
              "       [ 0.,  0.,  0.,  0.,  0.,  0., 50.,  0.,  0., 50.],\n",
              "       [50., 50., 50.,  0., 50., 50.,  0., 50.,  0., 50.],\n",
              "       [ 0.,  0., 50., 50.,  0.,  0.,  0.,  0., 51., 50.],\n",
              "       [ 0.,  0.,  0.,  0.,  0.,  0.,  0.,  0.,  0.,  0.],\n",
              "       [ 0.,  0.,  0.,  0.,  0.,  0.,  0.,  0.,  0.,  0.]])"
            ]
          },
          "metadata": {},
          "execution_count": 37
        }
      ]
    },
    {
      "cell_type": "code",
      "source": [
        "import seaborn as sns\n",
        "sns.set(rc = {'figure.figsize':(15,10)})\n",
        "ax = sns.heatmap(times_visited,linewidth = 0.5)"
      ],
      "metadata": {
        "colab": {
          "base_uri": "https://localhost:8080/",
          "height": 594
        },
        "outputId": "fcdc3d80-bb80-4a8d-a952-d9ec18d9c0ba",
        "id": "xgUxRxpli8pe"
      },
      "execution_count": null,
      "outputs": [
        {
          "output_type": "display_data",
          "data": {
            "text/plain": [
              "<Figure size 1080x720 with 2 Axes>"
            ],
            "image/png": "[encoded data removed]"
          },
          "metadata": {}
        }
      ]
    },
    {
      "cell_type": "code",
      "source": [
        ""
      ],
      "metadata": {
        "id": "Y4kTJmA_i5zV"
      },
      "execution_count": null,
      "outputs": []
    },
    {
      "cell_type": "code",
      "source": [
        ""
      ],
      "metadata": {
        "id": "hBnqX-Dti52R"
      },
      "execution_count": null,
      "outputs": []
    }
  ],
  "metadata": {
    "kernelspec": {
      "display_name": "Python 3",
      "language": "python",
      "name": "python3"
    },
    "language_info": {
      "codemirror_mode": {
        "name": "ipython",
        "version": 3
      },
      "file_extension": ".py",
      "mimetype": "text/x-python",
      "name": "python",
      "nbconvert_exporter": "python",
      "pygments_lexer": "ipython3",
      "version": "3.8.10"
    },
    "colab": {
      "name": "stochastic_windy_grid_FINAL.ipynb",
      "provenance": []
    }
  },
  "nbformat": 4,
  "nbformat_minor": 0
}