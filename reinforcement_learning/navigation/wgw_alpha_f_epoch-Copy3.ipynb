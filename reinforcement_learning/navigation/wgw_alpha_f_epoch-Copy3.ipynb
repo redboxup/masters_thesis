{
 "cells": [
  {
   "cell_type": "code",
   "execution_count": 1,
   "metadata": {},
   "outputs": [],
   "source": [
    "from rlmodule_2 import *\n",
    "import matplotlib.pyplot as plt"
   ]
  },
  {
   "cell_type": "code",
   "execution_count": 2,
   "metadata": {},
   "outputs": [],
   "source": [
    "#initialise important parameters\n",
    "q = np.ones([4,70])\n",
    "w = np.ones(70)*10\n",
    "gamma = 1"
   ]
  },
  {
   "cell_type": "code",
   "execution_count": 3,
   "metadata": {},
   "outputs": [],
   "source": [
    "#creating a function to run a finite episode\n",
    "def run_finite_episode(q,w,alpha,gamma):\n",
    "  #first state will be\n",
    "  state = env.reset()\n",
    "  is_done = False \n",
    "  I = 1\n",
    "  #loop while S is not terminal for each time step\n",
    "  no_step = 0\n",
    "  total_reward = 0\n",
    "  while no_step < 500 and is_done == False:\n",
    "    #sample an action using the policy\n",
    "    action = sample_action(state,q)\n",
    "    #take the action A, observe S', R\n",
    "    new_state, reward, is_done, _ = env.step(action)\n",
    "    if is_done == True:\n",
    "      delta = reward + gamma*0 -v(w,state)\n",
    "    else:\n",
    "      delta = reward + gamma*v(w,new_state) -v(w,state)\n",
    "    #defining some important parameters\n",
    "    r_exp = reward + v(w,new_state)\n",
    "    beta = r_exp - v(w,state)\n",
    "    #now we will update the weight parameters\n",
    "    #using adam-algorithm we will write the standard stochastic gradient descent as\n",
    "    z_times_policy = 0\n",
    "    prob_action = policy(state,q)\n",
    "    for i in range(4):\n",
    "      z_times_policy += prob_action[i]*z(state,i)\n",
    "    z_ = z(state,action)\n",
    "    z_times_policy = z_times_policy.transpose()\n",
    "    z_ = z_.transpose()\n",
    "    q += alpha*beta*(z_-z_times_policy)\n",
    "    w += alpha*beta*y(state)\n",
    "    no_step += 1\n",
    "    total_reward += reward\n",
    "    state = new_state\n",
    "  return no_step,total_reward\n",
    "\n"
   ]
  },
  {
   "cell_type": "code",
   "execution_count": 4,
   "metadata": {},
   "outputs": [],
   "source": [
    "def run_episode_dont_update(q,w):\n",
    "  state = env.reset()\n",
    "  is_done = False\n",
    "  #loop while S is not terminal for each time step\n",
    "  no_step = 0\n",
    "  total_reward = 0\n",
    "  while no_step < 500 and is_done == False:\n",
    "    action = sample_action(state,q)\n",
    "    new_state, reward, is_done, _ = env.step(action)\n",
    "    no_step += 1\n",
    "    total_reward += reward\n",
    "    state = new_state\n",
    "  return no_step,total_reward"
   ]
  },
  {
   "cell_type": "code",
   "execution_count": 5,
   "metadata": {},
   "outputs": [],
   "source": [
    "#for first 2000 rounds of training\n",
    "alpha = 0.001\n",
    "#let us draw the convergence plot\n",
    "reward_tot = []\n",
    "no_episodes = []\n",
    "tot_episodes = 0\n",
    "N = 150\n",
    "for i in range(20):\n",
    "  rew = 0\n",
    "  for j in range(N):\n",
    "    steps,rew_temp = run_episode_dont_update(q,w)\n",
    "    rew += rew_temp\n",
    "  rew_avg = rew/N\n",
    "  reward_tot.append(rew_avg)\n",
    "  no_episodes.append(tot_episodes)\n",
    "  #now we will train the model for 100 episodes with updates\n",
    "  for j in range(100):\n",
    "    a, b = run_finite_episode(q,w,alpha,gamma)\n",
    "  tot_episodes += 100"
   ]
  },
  {
   "cell_type": "code",
   "execution_count": 6,
   "metadata": {},
   "outputs": [
    {
     "data": {
      "image/png": "[encoded data removed]",
      "text/plain": [
       "<Figure size 1080x720 with 1 Axes>"
      ]
     },
     "metadata": {
      "needs_background": "light"
     },
     "output_type": "display_data"
    }
   ],
   "source": [
    "#let us plot the results\n",
    "plt.figure(figsize=(15,10))\n",
    "plt.plot(no_episodes,reward_tot)\n",
    "plt.xlabel(\"No. of episodes\")\n",
    "plt.ylabel(\"Total Reward\")\n",
    "plt.show()"
   ]
  },
  {
   "cell_type": "code",
   "execution_count": 7,
   "metadata": {},
   "outputs": [
    {
     "data": {
      "text/plain": [
       "-500.0"
      ]
     },
     "execution_count": 7,
     "metadata": {},
     "output_type": "execute_result"
    }
   ],
   "source": [
    "reward_tot[-1]"
   ]
  },
  {
   "cell_type": "code",
   "execution_count": 8,
   "metadata": {},
   "outputs": [],
   "source": [
    "#we want to write a function that will give a count of each trajectory\n",
    "times_visited = np.zeros([7,10])\n",
    "#we will sample 50 trajectories and keep a count of each state visited\n",
    "no_steps = []\n",
    "Tot_steps = 0\n",
    "for t in range(50):\n",
    "  state = env.reset()\n",
    "  times_visited[3][0] += 1\n",
    "  no_steps_this_loop = 0\n",
    "  is_done = False\n",
    "  while is_done == False and no_steps_this_loop<500:\n",
    "    action = sample_action(state,q)\n",
    "    new_state, reward, is_done, _ = env.step(action)\n",
    "    state = new_state\n",
    "    a,b = divmod(state,10)\n",
    "    times_visited[a][b] += 1\n",
    "    no_steps_this_loop +=1\n",
    "    Tot_steps += 1\n",
    "  no_steps.append(no_steps_this_loop)"
   ]
  },
  {
   "cell_type": "code",
   "execution_count": 9,
   "metadata": {},
   "outputs": [
    {
     "data": {
      "image/png": "[encoded data removed]",
      "text/plain": [
       "<Figure size 1080x720 with 2 Axes>"
      ]
     },
     "metadata": {},
     "output_type": "display_data"
    }
   ],
   "source": [
    "import seaborn as sns\n",
    "sns.set(rc = {'figure.figsize':(15,10)})\n",
    "ax = sns.heatmap(times_visited,linewidth = 0.5)"
   ]
  },
  {
   "cell_type": "code",
   "execution_count": 10,
   "metadata": {},
   "outputs": [
    {
     "ename": "KeyboardInterrupt",
     "evalue": "",
     "output_type": "error",
     "traceback": [
      "\u001b[0;31m---------------------------------------------------------------------------\u001b[0m",
      "\u001b[0;31mKeyboardInterrupt\u001b[0m                         Traceback (most recent call last)",
      "\u001b[0;32m<ipython-input-10-dbf267b656ea>\u001b[0m in \u001b[0;36m<module>\u001b[0;34m\u001b[0m\n\u001b[1;32m     16\u001b[0m   \u001b[0;31m#now we will train the model for 100 episodes with updates\u001b[0m\u001b[0;34m\u001b[0m\u001b[0;34m\u001b[0m\u001b[0;34m\u001b[0m\u001b[0m\n\u001b[1;32m     17\u001b[0m   \u001b[0;32mfor\u001b[0m \u001b[0mj\u001b[0m \u001b[0;32min\u001b[0m \u001b[0mrange\u001b[0m\u001b[0;34m(\u001b[0m\u001b[0;36m100\u001b[0m\u001b[0;34m)\u001b[0m\u001b[0;34m:\u001b[0m\u001b[0;34m\u001b[0m\u001b[0;34m\u001b[0m\u001b[0m\n\u001b[0;32m---> 18\u001b[0;31m     \u001b[0ma\u001b[0m\u001b[0;34m,\u001b[0m \u001b[0mb\u001b[0m \u001b[0;34m=\u001b[0m \u001b[0mrun_finite_episode\u001b[0m\u001b[0;34m(\u001b[0m\u001b[0mq\u001b[0m\u001b[0;34m,\u001b[0m\u001b[0mw\u001b[0m\u001b[0;34m,\u001b[0m\u001b[0malpha\u001b[0m\u001b[0;34m,\u001b[0m\u001b[0mgamma\u001b[0m\u001b[0;34m)\u001b[0m\u001b[0;34m\u001b[0m\u001b[0;34m\u001b[0m\u001b[0m\n\u001b[0m\u001b[1;32m     19\u001b[0m   \u001b[0mtot_episodes\u001b[0m \u001b[0;34m+=\u001b[0m \u001b[0;36m100\u001b[0m\u001b[0;34m\u001b[0m\u001b[0;34m\u001b[0m\u001b[0m\n",
      "\u001b[0;32m<ipython-input-3-76aa58459b19>\u001b[0m in \u001b[0;36mrun_finite_episode\u001b[0;34m(q, w, alpha, gamma)\u001b[0m\n\u001b[1;32m     10\u001b[0m   \u001b[0;32mwhile\u001b[0m \u001b[0mno_step\u001b[0m \u001b[0;34m<\u001b[0m \u001b[0;36m500\u001b[0m \u001b[0;32mand\u001b[0m \u001b[0mis_done\u001b[0m \u001b[0;34m==\u001b[0m \u001b[0;32mFalse\u001b[0m\u001b[0;34m:\u001b[0m\u001b[0;34m\u001b[0m\u001b[0;34m\u001b[0m\u001b[0m\n\u001b[1;32m     11\u001b[0m     \u001b[0;31m#sample an action using the policy\u001b[0m\u001b[0;34m\u001b[0m\u001b[0;34m\u001b[0m\u001b[0;34m\u001b[0m\u001b[0m\n\u001b[0;32m---> 12\u001b[0;31m     \u001b[0maction\u001b[0m \u001b[0;34m=\u001b[0m \u001b[0msample_action\u001b[0m\u001b[0;34m(\u001b[0m\u001b[0mstate\u001b[0m\u001b[0;34m,\u001b[0m\u001b[0mq\u001b[0m\u001b[0;34m)\u001b[0m\u001b[0;34m\u001b[0m\u001b[0;34m\u001b[0m\u001b[0m\n\u001b[0m\u001b[1;32m     13\u001b[0m     \u001b[0;31m#take the action A, observe S', R\u001b[0m\u001b[0;34m\u001b[0m\u001b[0;34m\u001b[0m\u001b[0;34m\u001b[0m\u001b[0m\n\u001b[1;32m     14\u001b[0m     \u001b[0mnew_state\u001b[0m\u001b[0;34m,\u001b[0m \u001b[0mreward\u001b[0m\u001b[0;34m,\u001b[0m \u001b[0mis_done\u001b[0m\u001b[0;34m,\u001b[0m \u001b[0m_\u001b[0m \u001b[0;34m=\u001b[0m \u001b[0menv\u001b[0m\u001b[0;34m.\u001b[0m\u001b[0mstep\u001b[0m\u001b[0;34m(\u001b[0m\u001b[0maction\u001b[0m\u001b[0;34m)\u001b[0m\u001b[0;34m\u001b[0m\u001b[0;34m\u001b[0m\u001b[0m\n",
      "\u001b[0;32m~/Desktop/Masters/Thesis/rl/rlmodule_2.py\u001b[0m in \u001b[0;36msample_action\u001b[0;34m(state, q)\u001b[0m\n\u001b[1;32m     37\u001b[0m \u001b[0;31m#code to sample an action from given probability distribution\u001b[0m\u001b[0;34m\u001b[0m\u001b[0;34m\u001b[0m\u001b[0;34m\u001b[0m\u001b[0m\n\u001b[1;32m     38\u001b[0m \u001b[0;32mdef\u001b[0m \u001b[0msample_action\u001b[0m\u001b[0;34m(\u001b[0m\u001b[0mstate\u001b[0m\u001b[0;34m,\u001b[0m\u001b[0mq\u001b[0m\u001b[0;34m)\u001b[0m\u001b[0;34m:\u001b[0m\u001b[0;34m\u001b[0m\u001b[0;34m\u001b[0m\u001b[0m\n\u001b[0;32m---> 39\u001b[0;31m   \u001b[0mprob_action\u001b[0m \u001b[0;34m=\u001b[0m \u001b[0mpolicy\u001b[0m\u001b[0;34m(\u001b[0m\u001b[0mstate\u001b[0m\u001b[0;34m,\u001b[0m\u001b[0mq\u001b[0m\u001b[0;34m)\u001b[0m\u001b[0;34m\u001b[0m\u001b[0;34m\u001b[0m\u001b[0m\n\u001b[0m\u001b[1;32m     40\u001b[0m   \u001b[0maction\u001b[0m \u001b[0;34m=\u001b[0m \u001b[0mnp\u001b[0m\u001b[0;34m.\u001b[0m\u001b[0mrandom\u001b[0m\u001b[0;34m.\u001b[0m\u001b[0mchoice\u001b[0m\u001b[0;34m(\u001b[0m\u001b[0mnp\u001b[0m\u001b[0;34m.\u001b[0m\u001b[0marange\u001b[0m\u001b[0;34m(\u001b[0m\u001b[0;36m4\u001b[0m\u001b[0;34m)\u001b[0m\u001b[0;34m,\u001b[0m\u001b[0mp\u001b[0m \u001b[0;34m=\u001b[0m \u001b[0mprob_action\u001b[0m\u001b[0;34m)\u001b[0m\u001b[0;34m\u001b[0m\u001b[0;34m\u001b[0m\u001b[0m\n\u001b[1;32m     41\u001b[0m   \u001b[0;32mreturn\u001b[0m \u001b[0maction\u001b[0m\u001b[0;34m\u001b[0m\u001b[0;34m\u001b[0m\u001b[0m\n",
      "\u001b[0;32m~/Desktop/Masters/Thesis/rl/rlmodule_2.py\u001b[0m in \u001b[0;36mpolicy\u001b[0;34m(state, q)\u001b[0m\n\u001b[1;32m     31\u001b[0m   \u001b[0;31m#now probability corresponding to the action\u001b[0m\u001b[0;34m\u001b[0m\u001b[0;34m\u001b[0m\u001b[0;34m\u001b[0m\u001b[0m\n\u001b[1;32m     32\u001b[0m   \u001b[0;32mfor\u001b[0m \u001b[0mj\u001b[0m \u001b[0;32min\u001b[0m \u001b[0mrange\u001b[0m\u001b[0;34m(\u001b[0m\u001b[0;36m4\u001b[0m\u001b[0;34m)\u001b[0m\u001b[0;34m:\u001b[0m\u001b[0;34m\u001b[0m\u001b[0;34m\u001b[0m\u001b[0m\n\u001b[0;32m---> 33\u001b[0;31m     \u001b[0mp_\u001b[0m \u001b[0;34m=\u001b[0m \u001b[0mnp\u001b[0m\u001b[0;34m.\u001b[0m\u001b[0mexp\u001b[0m\u001b[0;34m(\u001b[0m\u001b[0mh\u001b[0m\u001b[0;34m(\u001b[0m\u001b[0mstate\u001b[0m\u001b[0;34m,\u001b[0m\u001b[0mj\u001b[0m\u001b[0;34m,\u001b[0m\u001b[0mq\u001b[0m\u001b[0;34m)\u001b[0m\u001b[0;34m)\u001b[0m\u001b[0;34m/\u001b[0m\u001b[0msum\u001b[0m\u001b[0;34m\u001b[0m\u001b[0;34m\u001b[0m\u001b[0m\n\u001b[0m\u001b[1;32m     34\u001b[0m     \u001b[0mp\u001b[0m\u001b[0;34m.\u001b[0m\u001b[0mappend\u001b[0m\u001b[0;34m(\u001b[0m\u001b[0mp_\u001b[0m\u001b[0;34m)\u001b[0m\u001b[0;34m\u001b[0m\u001b[0;34m\u001b[0m\u001b[0m\n\u001b[1;32m     35\u001b[0m   \u001b[0;32mreturn\u001b[0m \u001b[0mp\u001b[0m\u001b[0;34m\u001b[0m\u001b[0;34m\u001b[0m\u001b[0m\n",
      "\u001b[0;31mKeyboardInterrupt\u001b[0m: "
     ]
    }
   ],
   "source": [
    "#for first 2000 rounds of training\n",
    "alpha = 0.01\n",
    "#let us draw the convergence plot\n",
    "reward_tot = []\n",
    "no_episodes = []\n",
    "tot_episodes = 0\n",
    "N = 150\n",
    "for i in range(20):\n",
    "  rew = 0\n",
    "  for j in range(N):\n",
    "    steps,rew_temp = run_episode_dont_update(q,w)\n",
    "    rew += rew_temp\n",
    "  rew_avg = rew/N\n",
    "  reward_tot.append(rew_avg)\n",
    "  no_episodes.append(tot_episodes)\n",
    "  #now we will train the model for 100 episodes with updates\n",
    "  for j in range(100):\n",
    "    a, b = run_finite_episode(q,w,alpha,gamma)\n",
    "  tot_episodes += 100"
   ]
  },
  {
   "cell_type": "code",
   "execution_count": null,
   "metadata": {},
   "outputs": [],
   "source": [
    "#let us plot the results\n",
    "plt.figure(figsize=(15,10))\n",
    "plt.plot(no_episodes,reward_tot)\n",
    "plt.xlabel(\"No. of episodes\")\n",
    "plt.ylabel(\"Total Reward\")\n",
    "plt.show()"
   ]
  },
  {
   "cell_type": "code",
   "execution_count": null,
   "metadata": {},
   "outputs": [],
   "source": [
    "reward_tot[-1]"
   ]
  },
  {
   "cell_type": "code",
   "execution_count": null,
   "metadata": {},
   "outputs": [],
   "source": [
    "#we want to write a function that will give a count of each trajectory\n",
    "times_visited = np.zeros([7,10])\n",
    "#we will sample 50 trajectories and keep a count of each state visited\n",
    "no_steps = []\n",
    "Tot_steps = 0\n",
    "for t in range(50):\n",
    "  state = env.reset()\n",
    "  times_visited[3][0] += 1\n",
    "  no_steps_this_loop = 0\n",
    "  is_done = False\n",
    "  while is_done == False and no_steps_this_loop < 500:\n",
    "    action = sample_action(state,q)\n",
    "    new_state, reward, is_done, _ = env.step(action)\n",
    "    state = new_state\n",
    "    a,b = divmod(state,10)\n",
    "    times_visited[a][b] += 1\n",
    "    no_steps_this_loop +=1\n",
    "    Tot_steps += 1\n",
    "  no_steps.append(no_steps_this_loop)"
   ]
  },
  {
   "cell_type": "code",
   "execution_count": null,
   "metadata": {},
   "outputs": [],
   "source": [
    "import seaborn as sns\n",
    "sns.set(rc = {'figure.figsize':(15,10)})\n",
    "ax = sns.heatmap(times_visited,linewidth = 0.5)"
   ]
  },
  {
   "cell_type": "code",
   "execution_count": null,
   "metadata": {},
   "outputs": [],
   "source": [
    "#for first 2000 rounds of training\n",
    "alpha = 0.1\n",
    "#let us draw the convergence plot\n",
    "reward_tot = []\n",
    "no_episodes = []\n",
    "tot_episodes = 0\n",
    "N = 150\n",
    "for i in range(20):\n",
    "  rew = 0\n",
    "  for j in range(N):\n",
    "    steps,rew_temp = run_episode_dont_update(q,w)\n",
    "    rew += rew_temp\n",
    "  rew_avg = rew/N\n",
    "  reward_tot.append(rew_avg)\n",
    "  no_episodes.append(tot_episodes)\n",
    "  #now we will train the model for 100 episodes with updates\n",
    "  for j in range(100):\n",
    "    a, b = run_finite_episode(q,w,alpha,gamma)\n",
    "  tot_episodes += 100"
   ]
  },
  {
   "cell_type": "code",
   "execution_count": null,
   "metadata": {},
   "outputs": [],
   "source": [
    "#let us plot the results\n",
    "plt.figure(figsize=(15,10))\n",
    "plt.plot(no_episodes,reward_tot)\n",
    "plt.xlabel(\"No. of episodes\")\n",
    "plt.ylabel(\"Total Reward\")\n",
    "plt.show()"
   ]
  },
  {
   "cell_type": "code",
   "execution_count": null,
   "metadata": {},
   "outputs": [],
   "source": [
    "reward_tot[-1]"
   ]
  },
  {
   "cell_type": "code",
   "execution_count": null,
   "metadata": {},
   "outputs": [],
   "source": [
    "#we want to write a function that will give a count of each trajectory\n",
    "times_visited = np.zeros([7,10])\n",
    "#we will sample 50 trajectories and keep a count of each state visited\n",
    "no_steps = []\n",
    "Tot_steps = 0\n",
    "for t in range(50):\n",
    "  state = env.reset()\n",
    "  times_visited[3][0] += 1\n",
    "  no_steps_this_loop = 0\n",
    "  is_done = False\n",
    "  while is_done == False and no_steps_this_loop < 500:\n",
    "    action = sample_action(state,q)\n",
    "    new_state, reward, is_done, _ = env.step(action)\n",
    "    state = new_state\n",
    "    a,b = divmod(state,10)\n",
    "    times_visited[a][b] += 1\n",
    "    no_steps_this_loop +=1\n",
    "    Tot_steps += 1\n",
    "  no_steps.append(no_steps_this_loop)"
   ]
  },
  {
   "cell_type": "code",
   "execution_count": null,
   "metadata": {},
   "outputs": [],
   "source": [
    "import seaborn as sns\n",
    "sns.set(rc = {'figure.figsize':(15,10)})\n",
    "ax = sns.heatmap(times_visited,linewidth = 0.5)"
   ]
  },
  {
   "cell_type": "code",
   "execution_count": null,
   "metadata": {},
   "outputs": [],
   "source": [
    "#let us try to plot the value function for the grid\n",
    "value_grid = np.zeros(times_visited.shape)\n",
    "for i in range(7):\n",
    "  for j in range(10):\n",
    "    s = i*10 +j\n",
    "    value_grid[i][j] = v(w,s)\n",
    "val = pd.DataFrame(value_grid)\n",
    "val"
   ]
  },
  {
   "cell_type": "code",
   "execution_count": null,
   "metadata": {},
   "outputs": [],
   "source": []
  }
 ],
 "metadata": {
  "kernelspec": {
   "display_name": "Python 3",
   "language": "python",
   "name": "python3"
  },
  "language_info": {
   "codemirror_mode": {
    "name": "ipython",
    "version": 3
   },
   "file_extension": ".py",
   "mimetype": "text/x-python",
   "name": "python",
   "nbconvert_exporter": "python",
   "pygments_lexer": "ipython3",
   "version": "3.8.10"
  }
 },
 "nbformat": 4,
 "nbformat_minor": 4
}
