{
 "cells": [
  {
   "cell_type": "code",
   "execution_count": 12,
   "metadata": {},
   "outputs": [],
   "source": [
    "import gym\n",
    "import numpy as np\n",
    "import sys\n",
    "from gym.envs.toy_text import discrete\n",
    "\n",
    "UP = 0\n",
    "RIGHT = 1\n",
    "DOWN = 2\n",
    "LEFT = 3\n",
    "#adding 4 more possible steps\n",
    "UP_RIGHT = 4\n",
    "DOWN_RIGHT = 5\n",
    "DOWN_LEFT = 6\n",
    "UP_LEFT = 7\n",
    "\n",
    "class WindyGridworldEnv(discrete.DiscreteEnv):\n",
    "\n",
    "    metadata = {'render.modes': ['human', 'ansi']}\n",
    "\n",
    "    def _limit_coordinates(self, coord):\n",
    "        coord[0] = min(coord[0], self.shape[0] - 1)\n",
    "        coord[0] = max(coord[0], 0)\n",
    "        coord[1] = min(coord[1], self.shape[1] - 1)\n",
    "        coord[1] = max(coord[1], 0)\n",
    "        return coord\n",
    "   \n",
    "    #write a different function to calculate transistion probabilities\n",
    "    def _calculate_transition_prob(self,current,delta,winds):\n",
    "        return_list = []\n",
    "        prob = [0.3333333333333,0.3333333333334,0.3333333333333]\n",
    "        w_str = [-1,0,1]\n",
    "        if winds[tuple(current)] == 0:\n",
    "            new_position = np.array(current) + np.array(delta) \n",
    "            new_position = self._limit_coordinates(new_position).astype(int)\n",
    "            new_state = np.ravel_multi_index(tuple(new_position), self.shape)\n",
    "            is_done = tuple(new_position) == (3,7)\n",
    "            return_list.append((1.0,new_state,-1.0,is_done))\n",
    "        else:\n",
    "            new_state = np.zeros(3)\n",
    "            for i in range(3):\n",
    "                new_position = np.array(current) + np.array(delta) + np.array([-1, 0]) * (winds[tuple(current)]+w_str[i])  \n",
    "                new_position = self._limit_coordinates(new_position).astype(int)\n",
    "                new_state = np.ravel_multi_index(tuple(new_position), self.shape)\n",
    "                is_done = tuple(new_position) ==(3,7)\n",
    "                return_list.append((prob[i],new_state,-1.0,is_done))\n",
    "        return return_list\n",
    "                \n",
    "                \n",
    "                \n",
    "    def __init__(self):\n",
    "        self.shape = (7, 10)\n",
    "\n",
    "        nS = np.prod(self.shape)\n",
    "        nA = 8\n",
    "\n",
    "        # Wind strength\n",
    "        winds = np.zeros(self.shape)\n",
    "        winds[:,[3,4,5,8]] = 1\n",
    "        winds[:,[6,7]] = 2\n",
    "\n",
    "        # Calculate transition probabilities\n",
    "        P = {}\n",
    "        for s in range(nS):\n",
    "            position = np.unravel_index(s, self.shape)\n",
    "            P[s] = { a : [] for a in range(nA) }\n",
    "            P[s][UP] = self._calculate_transition_prob(position, [-1, 0], winds)\n",
    "            P[s][RIGHT] = self._calculate_transition_prob(position, [0, 1], winds)\n",
    "            P[s][DOWN] = self._calculate_transition_prob(position, [1, 0], winds)\n",
    "            P[s][LEFT] = self._calculate_transition_prob(position, [0, -1], winds)\n",
    "            P[s][UP_RIGHT] = self._calculate_transition_prob(position, [-1, 1], winds)\n",
    "            P[s][DOWN_RIGHT] = self._calculate_transition_prob(position, [1, 1], winds)\n",
    "            P[s][DOWN_LEFT] = self._calculate_transition_prob(position, [1, -1], winds)\n",
    "            P[s][UP_LEFT] = self._calculate_transition_prob(position, [-1, -1], winds)\n",
    "\n",
    "        # We always start in state (3, 0)\n",
    "        isd = np.zeros(nS)\n",
    "        isd[np.ravel_multi_index((3,0), self.shape)] = 1.0\n",
    "\n",
    "        super(WindyGridworldEnv, self).__init__(nS, nA, P, isd)\n",
    "\n",
    "    def render(self, mode='human', close=False):\n",
    "        self._render(mode, close)\n",
    "\n",
    "    def _render(self, mode='human', close=False):\n",
    "        if close:\n",
    "            return\n",
    "\n",
    "        outfile = StringIO() if mode == 'ansi' else sys.stdout\n",
    "\n",
    "        for s in range(self.nS):\n",
    "            position = np.unravel_index(s, self.shape)\n",
    "            # print(self.s)\n",
    "            if self.s == s:\n",
    "                output = \" x \"\n",
    "            elif position == (3,7):\n",
    "                output = \" T \"\n",
    "            else:\n",
    "                output = \" o \"\n",
    "\n",
    "            if position[1] == 0:\n",
    "                output = output.lstrip()\n",
    "            if position[1] == self.shape[1] - 1:\n",
    "                output = output.rstrip()\n",
    "                output += \"\\n\"\n",
    "\n",
    "            outfile.write(output)\n",
    "        outfile.write(\"\\n\")"
   ]
  },
  {
   "cell_type": "code",
   "execution_count": 13,
   "metadata": {},
   "outputs": [],
   "source": [
    "env = WindyGridworldEnv()"
   ]
  },
  {
   "cell_type": "code",
   "execution_count": 21,
   "metadata": {},
   "outputs": [
    {
     "name": "stdout",
     "output_type": "stream",
     "text": [
      "o  o  o  o  o  o  o  o  o  o\n",
      "o  o  o  o  o  o  o  o  o  o\n",
      "o  o  o  o  o  o  o  o  o  o\n",
      "x  o  o  o  o  o  o  T  o  o\n",
      "o  o  o  o  o  o  o  o  o  o\n",
      "o  o  o  o  o  o  o  o  o  o\n",
      "o  o  o  o  o  o  o  o  o  o\n",
      "\n"
     ]
    }
   ],
   "source": [
    "env.reset()\n",
    "env.render()"
   ]
  },
  {
   "cell_type": "code",
   "execution_count": 45,
   "metadata": {},
   "outputs": [
    {
     "name": "stdout",
     "output_type": "stream",
     "text": [
      "o  o  o  o  o  x  o  o  o  o\n",
      "o  o  o  o  o  o  o  o  o  o\n",
      "o  o  o  o  o  o  o  o  o  o\n",
      "o  o  o  o  o  o  o  T  o  o\n",
      "o  o  o  o  o  o  o  o  o  o\n",
      "o  o  o  o  o  o  o  o  o  o\n",
      "o  o  o  o  o  o  o  o  o  o\n",
      "\n",
      "5 {'prob': 0.3333333333333}\n"
     ]
    }
   ],
   "source": [
    "a,b,c,d = env.step(7)\n",
    "env.render()\n",
    "print(a,d)"
   ]
  },
  {
   "cell_type": "code",
   "execution_count": null,
   "metadata": {},
   "outputs": [],
   "source": []
  },
  {
   "cell_type": "code",
   "execution_count": null,
   "metadata": {},
   "outputs": [],
   "source": []
  }
 ],
 "metadata": {
  "kernelspec": {
   "display_name": "Python 3",
   "language": "python",
   "name": "python3"
  },
  "language_info": {
   "codemirror_mode": {
    "name": "ipython",
    "version": 3
   },
   "file_extension": ".py",
   "mimetype": "text/x-python",
   "name": "python",
   "nbconvert_exporter": "python",
   "pygments_lexer": "ipython3",
   "version": "3.8.10"
  }
 },
 "nbformat": 4,
 "nbformat_minor": 4
}
