{
  "cells": [
    {
      "cell_type": "markdown",
      "metadata": {
        "id": "view-in-github",
        "colab_type": "text"
      },
      "source": [
        "<a href=\"https://colab.research.google.com/github/redboxup/masters_thesis/blob/main/reinforcement_learning/chemotaxis/chemotaxis___.ipynb\" target=\"_parent\"><img src=\"https://colab.research.google.com/assets/colab-badge.svg\" alt=\"Open In Colab\"/></a>"
      ]
    },
    {
      "cell_type": "code",
      "execution_count": null,
      "metadata": {
        "id": "dGJiazqfinr5"
      },
      "outputs": [],
      "source": [
        "import gym\n",
        "import numpy as np\n",
        "import sys\n",
        "if \"../\" not in sys.path:\n",
        "    sys.path.append(\"../\")\n",
        "from collections import defaultdict\n",
        "\n",
        "import itertools\n",
        "import collections\n",
        "from typing import Any,List,Sequence,Tuple\n",
        "import tqdm\n",
        "# Small epsilon value for stabilizing division operations\n",
        "eps = np.finfo(np.float32).eps.item()"
      ]
    },
    {
      "cell_type": "code",
      "source": [
        "#@title Environment of Windy grid\n",
        "import gym\n",
        "import numpy as np\n",
        "import sys\n",
        "from gym.envs.toy_text import discrete\n",
        "\n",
        "UP = 0\n",
        "RIGHT = 1\n",
        "DOWN = 2\n",
        "LEFT = 3\n",
        "\n",
        "class WindyGridworldEnv(discrete.DiscreteEnv):\n",
        "\n",
        "    metadata = {'render.modes': ['human', 'ansi']}\n",
        "\n",
        "    def _limit_coordinates(self, coord):\n",
        "        coord[0] = min(coord[0], self.shape[0] - 1)\n",
        "        coord[0] = max(coord[0], 0)\n",
        "        coord[1] = min(coord[1], self.shape[1] - 1)\n",
        "        coord[1] = max(coord[1], 0)\n",
        "        return coord\n",
        "\n",
        "    def _calculate_transition_prob(self, current, delta, winds):\n",
        "        new_position = np.array(current) + np.array(delta) + np.array([-1, 0]) * winds[tuple(current)]\n",
        "        new_position = self._limit_coordinates(new_position).astype(int)\n",
        "        new_state = np.ravel_multi_index(tuple(new_position), self.shape)\n",
        "        is_done = tuple(new_position) == (3, 7)\n",
        "        return [(1.0, new_state, -1.0, is_done)]\n",
        "\n",
        "    def __init__(self):\n",
        "        self.shape = (10, 10)\n",
        "\n",
        "        nS = np.prod(self.shape)\n",
        "        nA = 4\n",
        "\n",
        "        # Wind strength is zero\n",
        "        winds = np.zeros(self.shape)\n",
        "        winds[:,[3,4,5,8]] = 0\n",
        "        winds[:,[6,7]] = 0\n",
        "\n",
        "        # Calculate transition probabilities\n",
        "        P = {}\n",
        "        for s in range(nS):\n",
        "            position = np.unravel_index(s, self.shape)\n",
        "            P[s] = { a : [] for a in range(nA) }\n",
        "            P[s][UP] = self._calculate_transition_prob(position, [-1, 0], winds)\n",
        "            P[s][RIGHT] = self._calculate_transition_prob(position, [0, 1], winds)\n",
        "            P[s][DOWN] = self._calculate_transition_prob(position, [1, 0], winds)\n",
        "            P[s][LEFT] = self._calculate_transition_prob(position, [0, -1], winds)\n",
        "\n",
        "        # We always start in state (3, 0)\n",
        "        isd = np.zeros(nS)\n",
        "        isd[np.ravel_multi_index((3,0), self.shape)] = 1.0\n",
        "\n",
        "        super(WindyGridworldEnv, self).__init__(nS, nA, P, isd)\n",
        "\n",
        "    def render(self, mode='human', close=False):\n",
        "        self._render(mode, close)\n",
        "\n",
        "    def _render(self, mode='human', close=False):\n",
        "        if close:\n",
        "            return\n",
        "\n",
        "        outfile = StringIO() if mode == 'ansi' else sys.stdout\n",
        "\n",
        "        for s in range(self.nS):\n",
        "            position = np.unravel_index(s, self.shape)\n",
        "            # print(self.s)\n",
        "            if self.s == s:\n",
        "                output = \" x \"\n",
        "            elif position == (3,7):\n",
        "                output = \" T \"\n",
        "            else:\n",
        "                output = \" o \"\n",
        "\n",
        "            if position[1] == 0:\n",
        "                output = output.lstrip()\n",
        "            if position[1] == self.shape[1] - 1:\n",
        "                output = output.rstrip()\n",
        "                output += \"\\n\"\n",
        "\n",
        "            outfile.write(output)\n",
        "        outfile.write(\"\\n\")"
      ],
      "metadata": {
        "id": "wIgPmLhBi5H-"
      },
      "execution_count": null,
      "outputs": []
    },
    {
      "cell_type": "code",
      "execution_count": null,
      "metadata": {
        "id": "15Gh-b5PinsC"
      },
      "outputs": [],
      "source": [
        "env = WindyGridworldEnv()"
      ]
    },
    {
      "cell_type": "code",
      "execution_count": null,
      "metadata": {
        "colab": {
          "base_uri": "https://localhost:8080/"
        },
        "id": "bY9L8Y53insF",
        "outputId": "df6c9065-65c4-4268-b546-8fa19cef2965"
      },
      "outputs": [
        {
          "output_type": "stream",
          "name": "stdout",
          "text": [
            "30\n"
          ]
        }
      ],
      "source": [
        "print(env.reset())"
      ]
    },
    {
      "cell_type": "code",
      "execution_count": null,
      "metadata": {
        "colab": {
          "base_uri": "https://localhost:8080/"
        },
        "id": "DdBKO0MZinsI",
        "outputId": "5fbb39b7-58bc-44b3-f140-a892df63eea3"
      },
      "outputs": [
        {
          "output_type": "stream",
          "name": "stdout",
          "text": [
            "o  o  o  o  o  o  o  o  o  o\n",
            "o  o  o  o  o  o  o  o  o  o\n",
            "o  o  o  o  o  o  o  o  o  o\n",
            "x  o  o  o  o  o  o  T  o  o\n",
            "o  o  o  o  o  o  o  o  o  o\n",
            "o  o  o  o  o  o  o  o  o  o\n",
            "o  o  o  o  o  o  o  o  o  o\n",
            "o  o  o  o  o  o  o  o  o  o\n",
            "o  o  o  o  o  o  o  o  o  o\n",
            "o  o  o  o  o  o  o  o  o  o\n",
            "\n"
          ]
        }
      ],
      "source": [
        "env.render()"
      ]
    },
    {
      "cell_type": "code",
      "source": [
        "# Up:0; Right:1; Down:2; Left:3; \n",
        "env.step(2)\n",
        "env.render()"
      ],
      "metadata": {
        "colab": {
          "base_uri": "https://localhost:8080/"
        },
        "id": "eRWRgSualV_z",
        "outputId": "156c33b3-d8ae-45c1-aafc-75321463704b"
      },
      "execution_count": null,
      "outputs": [
        {
          "output_type": "stream",
          "name": "stdout",
          "text": [
            "o  o  o  o  o  o  o  o  o  o\n",
            "o  o  o  o  o  o  o  o  o  o\n",
            "o  o  o  o  o  o  o  o  o  o\n",
            "o  o  o  o  o  o  o  T  o  o\n",
            "x  o  o  o  o  o  o  o  o  o\n",
            "o  o  o  o  o  o  o  o  o  o\n",
            "o  o  o  o  o  o  o  o  o  o\n",
            "o  o  o  o  o  o  o  o  o  o\n",
            "o  o  o  o  o  o  o  o  o  o\n",
            "o  o  o  o  o  o  o  o  o  o\n",
            "\n"
          ]
        }
      ]
    },
    {
      "cell_type": "code",
      "source": [
        "#concentration field\n",
        "import numpy as np\n",
        "import matplotlib.pyplot as plt\n",
        "from matplotlib import cm\n",
        "from mpl_toolkits.mplot3d import Axes3D\n",
        "\n",
        "# Our 2-dimensional distribution will be over variables X and Y\n",
        "N = 10\n",
        "X = np.linspace(9, 0, N)\n",
        "Y = np.linspace(0, 9, N)\n",
        "X, Y = np.meshgrid(X, Y)\n",
        "\n",
        "# Mean vector and covariance matrix\n",
        "mu = np.array([7,9-3])\n",
        "Sigma = np.array([[ 1 , 0], [0,  1]])\n",
        "\n",
        "# Pack X and Y into a single 3-dimensional array\n",
        "pos = np.empty(X.shape + (2,))\n",
        "pos[:, :, 0] = X\n",
        "pos[:, :, 1] = Y\n",
        "\n",
        "def multivariate_gaussian(pos, mu, Sigma):\n",
        "    \"\"\"Return the multivariate Gaussian distribution on array pos.\"\"\"\n",
        "\n",
        "    n = mu.shape[0]\n",
        "    Sigma_det = np.linalg.det(Sigma)\n",
        "    Sigma_inv = np.linalg.inv(Sigma)\n",
        "    N = np.sqrt((2*np.pi)**n * Sigma_det)\n",
        "    # This einsum call calculates (x-mu)T.Sigma-1.(x-mu) in a vectorized\n",
        "    # way across all the input variables.\n",
        "    fac = np.einsum('...k,kl,...l->...', pos-mu, Sigma_inv, pos-mu)\n",
        "\n",
        "    return np.exp(-fac / 2) / N\n",
        "\n",
        "# The distribution on the variables X, Y packed into pos.\n",
        "Z = multivariate_gaussian(pos, mu, Sigma)\n"
      ],
      "metadata": {
        "id": "ZZffWQVOq8ih"
      },
      "execution_count": null,
      "outputs": []
    },
    {
      "cell_type": "code",
      "source": [
        "#concentration field \n",
        "fig, ax = plt.subplots(1,1)\n",
        "ax.contourf(X,Y,Z)"
      ],
      "metadata": {
        "colab": {
          "base_uri": "https://localhost:8080/",
          "height": 286
        },
        "id": "7kU-k5ETq8lf",
        "outputId": "7c2d7ea5-4eb1-4d06-e4ee-37cdf631e2e1"
      },
      "execution_count": null,
      "outputs": [
        {
          "output_type": "execute_result",
          "data": {
            "text/plain": [
              "<matplotlib.contour.QuadContourSet at 0x7f40a5f4c8d0>"
            ]
          },
          "metadata": {},
          "execution_count": 35
        },
        {
          "output_type": "display_data",
          "data": {
            "text/plain": [
              "<Figure size 432x288 with 1 Axes>"
            ],
            "image/png": "[encoded data removed]"
          },
          "metadata": {
            "needs_background": "light"
          }
        }
      ]
    },
    {
      "cell_type": "code",
      "source": [
        "env.render()"
      ],
      "metadata": {
        "colab": {
          "base_uri": "https://localhost:8080/"
        },
        "id": "Vn3RTIedq8xA",
        "outputId": "925c705f-eb73-4cb9-84ea-8f5aaf0d2254"
      },
      "execution_count": null,
      "outputs": [
        {
          "output_type": "stream",
          "name": "stdout",
          "text": [
            "o  o  o  o  o  o  o  o  o  o\n",
            "o  o  o  o  o  o  o  o  o  o\n",
            "o  o  o  o  o  o  o  o  o  o\n",
            "o  o  o  o  o  o  o  T  o  o\n",
            "x  o  o  o  o  o  o  o  o  o\n",
            "o  o  o  o  o  o  o  o  o  o\n",
            "o  o  o  o  o  o  o  o  o  o\n",
            "o  o  o  o  o  o  o  o  o  o\n",
            "o  o  o  o  o  o  o  o  o  o\n",
            "o  o  o  o  o  o  o  o  o  o\n",
            "\n"
          ]
        }
      ]
    },
    {
      "cell_type": "code",
      "source": [
        ""
      ],
      "metadata": {
        "id": "_u_aRquZq8zx"
      },
      "execution_count": null,
      "outputs": []
    },
    {
      "cell_type": "code",
      "source": [
        ""
      ],
      "metadata": {
        "id": "H3QXM8aPq82s"
      },
      "execution_count": null,
      "outputs": []
    },
    {
      "cell_type": "code",
      "source": [
        ""
      ],
      "metadata": {
        "id": "-AHsA_8dq85u"
      },
      "execution_count": null,
      "outputs": []
    },
    {
      "cell_type": "code",
      "source": [
        ""
      ],
      "metadata": {
        "id": "U5tilH-Fq88n"
      },
      "execution_count": null,
      "outputs": []
    },
    {
      "cell_type": "code",
      "source": [
        ""
      ],
      "metadata": {
        "id": "Tf2khBeWq8_S"
      },
      "execution_count": null,
      "outputs": []
    },
    {
      "cell_type": "code",
      "source": [
        ""
      ],
      "metadata": {
        "id": "mTeBDydBq9CE"
      },
      "execution_count": null,
      "outputs": []
    },
    {
      "cell_type": "code",
      "source": [
        ""
      ],
      "metadata": {
        "id": "ZSkn_Olzq9FB"
      },
      "execution_count": null,
      "outputs": []
    },
    {
      "cell_type": "code",
      "source": [
        ""
      ],
      "metadata": {
        "id": "HRzBQbVvq9H-"
      },
      "execution_count": null,
      "outputs": []
    },
    {
      "cell_type": "code",
      "source": [
        "#policy neural network\n",
        "#let us initialise parameters in a q matrix of size N_a x N_s\n",
        "q = np.ones([4,70])\n",
        "#let us define a function that will return z(s,a) matrices\n",
        "def z(state,action):\n",
        "  z_ = np.zeros([70,4])\n",
        "  z_[state][action] = 1\n",
        "  return z_"
      ],
      "metadata": {
        "id": "yI4NQMTDrKe9"
      },
      "execution_count": null,
      "outputs": []
    },
    {
      "cell_type": "code",
      "source": [
        "#let us now define the h function\n",
        "def h(s_i,a_j):\n",
        "  z_ = z(s_i,a_j)\n",
        "  h_ = q[a_j][s_i]*z_[s_i][a_j]\n",
        "  return h_"
      ],
      "metadata": {
        "id": "5D-bI0ErVG9u"
      },
      "execution_count": null,
      "outputs": []
    },
    {
      "cell_type": "code",
      "source": [
        "q[3][5] = 1\n",
        "h(5,3)\n",
        "np.exp(h(5,3))"
      ],
      "metadata": {
        "colab": {
          "base_uri": "https://localhost:8080/"
        },
        "id": "a7uGB2o3VHAU",
        "outputId": "5331434f-f8b1-41af-c753-d11184b26f7d"
      },
      "execution_count": null,
      "outputs": [
        {
          "output_type": "execute_result",
          "data": {
            "text/plain": [
              "2.718281828459045"
            ]
          },
          "metadata": {},
          "execution_count": 10
        }
      ]
    },
    {
      "cell_type": "code",
      "source": [
        "#now let us define the policy function\n",
        "def policy(state):\n",
        "  sum = 0\n",
        "  p = []\n",
        "  for j in range(4):\n",
        "    sum += np.exp(h(state,j))\n",
        "  #now probability corresponding to the action\n",
        "  for j in range(4):\n",
        "    p_ = np.exp(h(state,j))/sum\n",
        "    p.append(p_)\n",
        "  return p"
      ],
      "metadata": {
        "id": "uvBzUGzFVHDu"
      },
      "execution_count": null,
      "outputs": []
    },
    {
      "cell_type": "code",
      "source": [
        "#code to sample an action from given probability distribution\n",
        "def sample_action(state):\n",
        "  prob_action = policy(state)\n",
        "  action = np.random.choice(np.arange(4),p = prob_action)\n",
        "  return action"
      ],
      "metadata": {
        "id": "gbgBHqO1jPAi"
      },
      "execution_count": null,
      "outputs": []
    },
    {
      "cell_type": "code",
      "source": [
        "policy(50)"
      ],
      "metadata": {
        "colab": {
          "base_uri": "https://localhost:8080/"
        },
        "id": "HFVVw9RPkYTW",
        "outputId": "c0c916e2-aad4-49ec-f37b-4787b9b339f0"
      },
      "execution_count": null,
      "outputs": [
        {
          "output_type": "execute_result",
          "data": {
            "text/plain": [
              "[0.25, 0.25, 0.25, 0.25]"
            ]
          },
          "metadata": {},
          "execution_count": 13
        }
      ]
    },
    {
      "cell_type": "code",
      "source": [
        "sample_action(50)"
      ],
      "metadata": {
        "colab": {
          "base_uri": "https://localhost:8080/"
        },
        "id": "sFc-ZyK0VHIT",
        "outputId": "2c7441d5-5c83-4af1-df35-01e98f5b3557"
      },
      "execution_count": null,
      "outputs": [
        {
          "output_type": "execute_result",
          "data": {
            "text/plain": [
              "1"
            ]
          },
          "metadata": {},
          "execution_count": 14
        }
      ]
    },
    {
      "cell_type": "code",
      "source": [
        "#convert state into is feature vector\n",
        "def y(s):\n",
        "  s_v = np.zeros(70)\n",
        "  s_v[s] = 1\n",
        "  return s_v"
      ],
      "metadata": {
        "id": "vJkqbdyoE5pV"
      },
      "execution_count": null,
      "outputs": []
    },
    {
      "cell_type": "code",
      "execution_count": null,
      "metadata": {
        "id": "GSJIc2Lcinsf"
      },
      "outputs": [],
      "source": [
        "#state-value function linear approximation\n",
        "def v(w,s):\n",
        "  s_v = y(s)\n",
        "  return np.dot(w.T,s_v)\n",
        "\n",
        "#gradient of state-value function\n",
        "def grad_v(w,s):\n",
        "  s_v = y(s)\n",
        "  return s_v\n",
        "\n",
        "#let us initialise weights of the state-value function\n",
        "#w = np.random.rand(70)\n",
        "w = np.ones(70)"
      ]
    },
    {
      "cell_type": "code",
      "source": [
        "#let us get some expected value\n",
        "v(w,50)"
      ],
      "metadata": {
        "id": "hPOta3ZrrzgE",
        "colab": {
          "base_uri": "https://localhost:8080/"
        },
        "outputId": "023ff3ce-ef0b-42c9-c769-987dae37fd8a"
      },
      "execution_count": null,
      "outputs": [
        {
          "output_type": "execute_result",
          "data": {
            "text/plain": [
              "1.0"
            ]
          },
          "metadata": {},
          "execution_count": 17
        }
      ]
    },
    {
      "cell_type": "code",
      "source": [
        "#main part of the code\n",
        "#initialising step-size vector\n",
        "alpha = 0.001\n",
        "alpha_w = alpha*np.ones(np.shape(w))\n",
        "alpha_q = alpha*np.ones(np.shape(q))"
      ],
      "metadata": {
        "id": "iJHO4u1NrzoB"
      },
      "execution_count": null,
      "outputs": []
    },
    {
      "cell_type": "code",
      "source": [
        "#defining important parameters\n",
        "gamma = 1"
      ],
      "metadata": {
        "id": "fzVnyHEkt-Cs"
      },
      "execution_count": null,
      "outputs": []
    },
    {
      "cell_type": "code",
      "source": [
        "#loop forever(for each episode)\n",
        "def run_episode(q,w):\n",
        "  #first state will be\n",
        "  state = env.reset()\n",
        "  is_done = False \n",
        "  I = 1\n",
        "  #loop while S is not terminal for each time step\n",
        "  no_step = 0\n",
        "  total_reward = 0\n",
        "  while is_done == False:\n",
        "    #sample an action using the policy\n",
        "    action = sample_action(state)\n",
        "    #take the action A, observe S', R\n",
        "    new_state, reward, is_done, _ = env.step(action)\n",
        "    if is_done == True:\n",
        "      delta = reward + gamma*0 -v(w,state)\n",
        "    else:\n",
        "      delta = reward + gamma*v(w,new_state) -v(w,state)\n",
        "    #defining some important parameters\n",
        "    r_exp = reward + v(w,new_state)\n",
        "    beta = r_exp - v(w,state)\n",
        "    #now we will update the weight parameters\n",
        "    #using adam-algorithm we will write the standard stochastic gradient descent as\n",
        "    z_times_policy = 0\n",
        "    prob_action = policy(state)\n",
        "    for i in range(4):\n",
        "      z_times_policy += prob_action[i]*z(state,i)\n",
        "    z_ = z(state,action)\n",
        "    z_times_policy = z_times_policy.transpose()\n",
        "    z_ = z_.transpose()\n",
        "    q += alpha*beta*(z_-z_times_policy)\n",
        "    w += alpha*beta*y(state)\n",
        "    no_step += 1\n",
        "    total_reward += reward\n",
        "    #print(state,action,reward,no_step)\n",
        "    state = new_state\n",
        "  return no_step,total_reward"
      ],
      "metadata": {
        "id": "fpBBg5vOg1p3"
      },
      "execution_count": null,
      "outputs": []
    },
    {
      "cell_type": "code",
      "source": [
        "#to run an episode but not update its values\n",
        "def run_episode_dont_update(q,w):\n",
        "  state = env.reset()\n",
        "  is_done = False\n",
        "  #loop while S is not terminal for each time step\n",
        "  no_step = 0\n",
        "  total_reward = 0\n",
        "  while is_done == False:\n",
        "    action = sample_action(state)\n",
        "    new_state, reward, is_done, _ = env.step(action)\n",
        "    no_step += 1\n",
        "    total_reward += reward\n",
        "    state = new_state\n",
        "  return no_step,total_reward"
      ],
      "metadata": {
        "id": "Xw8vg4Ts2SJx"
      },
      "execution_count": null,
      "outputs": []
    },
    {
      "cell_type": "code",
      "source": [
        "steps,G = run_episode(q,w)\n",
        "print(steps,G)"
      ],
      "metadata": {
        "colab": {
          "base_uri": "https://localhost:8080/"
        },
        "id": "6crTR9WBg2Ah",
        "outputId": "0d90dd47-f7de-4e63-cab4-7f34ba0991d4"
      },
      "execution_count": null,
      "outputs": [
        {
          "output_type": "stream",
          "name": "stdout",
          "text": [
            "2380 -2380.0\n"
          ]
        }
      ]
    },
    {
      "cell_type": "code",
      "source": [
        "#let us find the mean for the model\n",
        "steps, G = run_episode_dont_update(q,w)\n",
        "print(steps,G)"
      ],
      "metadata": {
        "colab": {
          "base_uri": "https://localhost:8080/"
        },
        "id": "NYOTXSwK38FD",
        "outputId": "7277b01f-5eba-4d00-dee7-0ce21252c08f"
      },
      "execution_count": null,
      "outputs": [
        {
          "output_type": "stream",
          "name": "stdout",
          "text": [
            "8674 -8674.0\n"
          ]
        }
      ]
    },
    {
      "cell_type": "code",
      "source": [
        "#let us create a plot to see how the model behaves over 150 episodes\n",
        "reward_tot = []\n",
        "no_episodes = []\n",
        "tot_episodes = 0\n",
        "N = 150\n",
        "for i in range(20):\n",
        "  rew = 0\n",
        "  for j in range(N):\n",
        "    steps,rew_temp = run_episode_dont_update(q,w)\n",
        "    rew += rew_temp\n",
        "  rew_avg = rew/N\n",
        "  reward_tot.append(rew_avg)\n",
        "  no_episodes.append(tot_episodes)\n",
        "  #now we will train the model for 100 episodes with updates\n",
        "  for j in range(100):\n",
        "    a, b = run_episode(q,w)\n",
        "  tot_episodes += 100"
      ],
      "metadata": {
        "id": "QxJHIdofj6BD"
      },
      "execution_count": null,
      "outputs": []
    },
    {
      "cell_type": "code",
      "source": [
        "print(reward_tot)"
      ],
      "metadata": {
        "id": "_LvyR5fkj6PD",
        "colab": {
          "base_uri": "https://localhost:8080/"
        },
        "outputId": "3e5de7e9-9c4d-421c-a1d3-19f79ab1ab87"
      },
      "execution_count": null,
      "outputs": [
        {
          "output_type": "stream",
          "name": "stdout",
          "text": [
            "[-5561.08, -609.4933333333333, -307.5733333333333, -247.74666666666667, -197.09333333333333, -149.84, -144.59333333333333, -116.60666666666667, -116.16666666666667, -95.24666666666667, -96.08666666666667, -92.53333333333333, -83.41333333333333, -79.54666666666667, -72.58666666666667, -68.04666666666667, -63.68, -63.43333333333333, -58.986666666666665, -56.93333333333333]\n"
          ]
        }
      ]
    },
    {
      "cell_type": "code",
      "source": [
        "print(no_episodes)"
      ],
      "metadata": {
        "id": "jOHJJjERrzws",
        "colab": {
          "base_uri": "https://localhost:8080/"
        },
        "outputId": "a08f1f7d-6ee0-46aa-b4ba-e19039a4a348"
      },
      "execution_count": null,
      "outputs": [
        {
          "output_type": "stream",
          "name": "stdout",
          "text": [
            "[0, 100, 200, 300, 400, 500, 600, 700, 800, 900, 1000, 1100, 1200, 1300, 1400, 1500, 1600, 1700, 1800, 1900]\n"
          ]
        }
      ]
    },
    {
      "cell_type": "code",
      "source": [
        "#let us plot the above results\n",
        "import matplotlib.pyplot as plt\n",
        "plt.plot(no_episodes,reward_tot)\n",
        "plt.xlabel(\"No. of episodes\")\n",
        "plt.ylabel(\"Total Reward\")\n",
        "plt.figure(figsize=(15,10))\n"
      ],
      "metadata": {
        "colab": {
          "base_uri": "https://localhost:8080/",
          "height": 314
        },
        "id": "29WYp7679kHw",
        "outputId": "640cfee1-3f5f-471c-b7e0-eca6fabe5dc8"
      },
      "execution_count": null,
      "outputs": [
        {
          "output_type": "execute_result",
          "data": {
            "text/plain": [
              "<Figure size 1080x720 with 0 Axes>"
            ]
          },
          "metadata": {},
          "execution_count": 27
        },
        {
          "output_type": "display_data",
          "data": {
            "text/plain": [
              "<Figure size 432x288 with 1 Axes>"
            ],
            "image/png": "[encoded data removed]"
          },
          "metadata": {
            "needs_background": "light"
          }
        },
        {
          "output_type": "display_data",
          "data": {
            "text/plain": [
              "<Figure size 1080x720 with 0 Axes>"
            ]
          },
          "metadata": {}
        }
      ]
    },
    {
      "cell_type": "code",
      "source": [
        "#now we want to plot all the trajectories to see what the density is like\n",
        "def state2coord(state):\n",
        "  a,b = divmod(state,10)\n",
        "  return a,b"
      ],
      "metadata": {
        "id": "jnkYl0h_9kKl"
      },
      "execution_count": null,
      "outputs": []
    },
    {
      "cell_type": "code",
      "source": [
        ""
      ],
      "metadata": {
        "id": "eauKBZpUAKyr"
      },
      "execution_count": null,
      "outputs": []
    },
    {
      "cell_type": "code",
      "source": [
        "#we ant to write a function that will give a count of each trajectory\n",
        "times_visited = np.zeros([7,10])\n",
        "#we will sample 50 trajectories and keep a count of each state visited\n",
        "no_steps = []\n",
        "Tot_steps = 0\n",
        "for t in range(50):\n",
        "  state = env.reset()\n",
        "  times_visited[3][0] += 1\n",
        "  no_steps_this_loop = 0\n",
        "  is_done = False\n",
        "  while is_done == False:\n",
        "    action = sample_action(state)\n",
        "    new_state, reward, is_done, _ = env.step(action)\n",
        "    state = new_state\n",
        "    a,b = divmod(state,10)\n",
        "    times_visited[a][b] += 1\n",
        "    no_steps_this_loop +=1\n",
        "    Tot_steps += 1\n",
        "  no_steps.append(no_steps_this_loop)"
      ],
      "metadata": {
        "id": "tsuRD7-kAK1P"
      },
      "execution_count": null,
      "outputs": []
    },
    {
      "cell_type": "code",
      "source": [
        "av_steps = Tot_steps/50\n",
        "print(av_steps)"
      ],
      "metadata": {
        "colab": {
          "base_uri": "https://localhost:8080/"
        },
        "id": "PNKsXFx3AK36",
        "outputId": "433ca9ad-d856-4e1b-e3a6-5fd01567398d"
      },
      "execution_count": null,
      "outputs": [
        {
          "output_type": "stream",
          "name": "stdout",
          "text": [
            "50.68\n"
          ]
        }
      ]
    },
    {
      "cell_type": "code",
      "source": [
        "times_visited"
      ],
      "metadata": {
        "colab": {
          "base_uri": "https://localhost:8080/"
        },
        "id": "o4aFLmC_AK6i",
        "outputId": "f9f0877d-33b6-4c1d-d182-9f716f889bb0"
      },
      "execution_count": null,
      "outputs": [
        {
          "output_type": "execute_result",
          "data": {
            "text/plain": [
              "array([[33., 31., 49., 43., 39., 34., 51., 68., 83., 84.],\n",
              "       [34., 26., 38., 15., 12., 16., 38., 12., 17., 84.],\n",
              "       [49., 31., 41., 13., 51., 66., 35.,  6., 16., 77.],\n",
              "       [83., 46., 41., 15., 33., 43., 15., 50., 17., 77.],\n",
              "       [64., 56., 57., 22., 60., 35.,  0.,  7., 53., 78.],\n",
              "       [48., 51., 76., 70., 38.,  0.,  0.,  3.,  8., 32.],\n",
              "       [33., 45., 52., 61.,  0.,  0.,  0.,  0.,  7., 16.]])"
            ]
          },
          "metadata": {},
          "execution_count": 31
        }
      ]
    },
    {
      "cell_type": "code",
      "source": [
        "import seaborn as sns\n",
        "sns.set(rc = {'figure.figsize':(15,10)})\n",
        "ax = sns.heatmap(times_visited,linewidth = 0.5)"
      ],
      "metadata": {
        "colab": {
          "base_uri": "https://localhost:8080/",
          "height": 552
        },
        "id": "Pp6CFecPJfps",
        "outputId": "2d7b1ab0-a993-4222-fc81-91e572fe3836"
      },
      "execution_count": null,
      "outputs": [
        {
          "output_type": "display_data",
          "data": {
            "text/plain": [
              "<Figure size 1080x720 with 2 Axes>"
            ],
            "image/png": "[encoded data removed]"
          },
          "metadata": {}
        }
      ]
    },
    {
      "cell_type": "code",
      "source": [
        "#now we want to change the learning rate and retrain the model to make it better\n",
        "alpha = 0.1\n",
        "\n"
      ],
      "metadata": {
        "id": "g1hcb9uaJfsj"
      },
      "execution_count": null,
      "outputs": []
    },
    {
      "cell_type": "code",
      "source": [
        "#let us create a plot to see how the model behaves over 150 episodes\n",
        "reward_tot = []\n",
        "no_episodes = []\n",
        "tot_episodes = 0\n",
        "N = 150\n",
        "for i in range(20):\n",
        "  rew = 0\n",
        "  for j in range(N):\n",
        "    steps,rew_temp = run_episode_dont_update(q,w)\n",
        "    rew += rew_temp\n",
        "  rew_avg = rew/N\n",
        "  reward_tot.append(rew_avg)\n",
        "  no_episodes.append(tot_episodes)\n",
        "  #now we will train the model for 100 episodes with updates\n",
        "  for j in range(100):\n",
        "    a, b = run_episode(q,w)\n",
        "  tot_episodes += 100"
      ],
      "metadata": {
        "id": "IRREaitfjQTf"
      },
      "execution_count": null,
      "outputs": []
    },
    {
      "cell_type": "code",
      "source": [
        "#we want to write a function that will give a count of each trajectory\n",
        "times_visited = np.zeros([7,10])\n",
        "#we will sample 50 trajectories and keep a count of each state visited\n",
        "no_steps = []\n",
        "Tot_steps = 0\n",
        "for t in range(50):\n",
        "  state = env.reset()\n",
        "  times_visited[3][0] += 1\n",
        "  no_steps_this_loop = 0\n",
        "  is_done = False\n",
        "  while is_done == False:\n",
        "    action = sample_action(state)\n",
        "    new_state, reward, is_done, _ = env.step(action)\n",
        "    state = new_state\n",
        "    a,b = divmod(state,10)\n",
        "    times_visited[a][b] += 1\n",
        "    no_steps_this_loop +=1\n",
        "    Tot_steps += 1\n",
        "  no_steps.append(no_steps_this_loop)"
      ],
      "metadata": {
        "id": "y6UJclrViw92"
      },
      "execution_count": null,
      "outputs": []
    },
    {
      "cell_type": "code",
      "source": [
        "av_steps = Tot_steps/50\n",
        "print(av_steps)"
      ],
      "metadata": {
        "colab": {
          "base_uri": "https://localhost:8080/"
        },
        "outputId": "38514e91-8fa7-42ed-bc46-ce9a33cdd18a",
        "id": "DuJWhKB1i1y9"
      },
      "execution_count": null,
      "outputs": [
        {
          "output_type": "stream",
          "name": "stdout",
          "text": [
            "16.0\n"
          ]
        }
      ]
    },
    {
      "cell_type": "code",
      "source": [
        "times_visited"
      ],
      "metadata": {
        "id": "6qExdyxDJfyN",
        "colab": {
          "base_uri": "https://localhost:8080/"
        },
        "outputId": "bbd8ca6d-01d0-43fd-d3e7-34ddbe3e5026"
      },
      "execution_count": null,
      "outputs": [
        {
          "output_type": "execute_result",
          "data": {
            "text/plain": [
              "array([[ 0.,  0.,  0.,  0.,  0.,  0.,  0., 50., 50., 50.],\n",
              "       [ 0.,  0.,  0.,  0.,  0.,  0., 50.,  0.,  0., 50.],\n",
              "       [ 0.,  0.,  0.,  0.,  0., 50.,  0.,  0.,  0., 50.],\n",
              "       [50., 50., 50.,  0., 50.,  0.,  0., 50.,  0., 50.],\n",
              "       [ 0.,  0., 50., 50.,  0.,  0.,  0.,  0., 50., 50.],\n",
              "       [ 0.,  0.,  0.,  0.,  0.,  0.,  0.,  0.,  0.,  0.],\n",
              "       [ 0.,  0.,  0.,  0.,  0.,  0.,  0.,  0.,  0.,  0.]])"
            ]
          },
          "metadata": {},
          "execution_count": 43
        }
      ]
    },
    {
      "cell_type": "code",
      "source": [
        "import seaborn as sns\n",
        "sns.set(rc = {'figure.figsize':(15,10)})\n",
        "ax = sns.heatmap(times_visited,linewidth = 0.5)"
      ],
      "metadata": {
        "colab": {
          "base_uri": "https://localhost:8080/",
          "height": 555
        },
        "outputId": "587a9802-e490-43ab-b959-31bb4223777a",
        "id": "xgUxRxpli8pe"
      },
      "execution_count": null,
      "outputs": [
        {
          "output_type": "display_data",
          "data": {
            "text/plain": [
              "<Figure size 1080x720 with 2 Axes>"
            ],
            "image/png": "[encoded data removed]"
          },
          "metadata": {}
        }
      ]
    },
    {
      "cell_type": "code",
      "source": [
        "#let us try to plot the value function for the grid\n",
        "value_grid = np.zeros(times_visited.shape)\n",
        "print(value_grid)"
      ],
      "metadata": {
        "colab": {
          "base_uri": "https://localhost:8080/"
        },
        "id": "Y4kTJmA_i5zV",
        "outputId": "33202de3-6bf1-45b8-bc76-0ed1083378c6"
      },
      "execution_count": null,
      "outputs": [
        {
          "output_type": "stream",
          "name": "stdout",
          "text": [
            "[[0. 0. 0. 0. 0. 0. 0. 0. 0. 0.]\n",
            " [0. 0. 0. 0. 0. 0. 0. 0. 0. 0.]\n",
            " [0. 0. 0. 0. 0. 0. 0. 0. 0. 0.]\n",
            " [0. 0. 0. 0. 0. 0. 0. 0. 0. 0.]\n",
            " [0. 0. 0. 0. 0. 0. 0. 0. 0. 0.]\n",
            " [0. 0. 0. 0. 0. 0. 0. 0. 0. 0.]\n",
            " [0. 0. 0. 0. 0. 0. 0. 0. 0. 0.]]\n"
          ]
        }
      ]
    },
    {
      "cell_type": "code",
      "source": [
        "for i in range(7):\n",
        "  for j in range(10):\n",
        "    s = i*10 +j\n",
        "    value_grid[i][j] = v(w,s)"
      ],
      "metadata": {
        "id": "hBnqX-Dti52R"
      },
      "execution_count": null,
      "outputs": []
    },
    {
      "cell_type": "code",
      "source": [
        "v(w,50)"
      ],
      "metadata": {
        "colab": {
          "base_uri": "https://localhost:8080/"
        },
        "id": "6AFrF2_9_lTn",
        "outputId": "b1dc53fa-e4d9-4df2-d1d1-8cd761d8833a"
      },
      "execution_count": null,
      "outputs": [
        {
          "output_type": "execute_result",
          "data": {
            "text/plain": [
              "-18.87187313278677"
            ]
          },
          "metadata": {},
          "execution_count": 52
        }
      ]
    },
    {
      "cell_type": "code",
      "source": [
        "value_grid"
      ],
      "metadata": {
        "colab": {
          "base_uri": "https://localhost:8080/"
        },
        "id": "CWvNbnZm_lYi",
        "outputId": "c0ef3f76-535e-485d-ba78-d6e7519c1702"
      },
      "execution_count": null,
      "outputs": [
        {
          "output_type": "execute_result",
          "data": {
            "text/plain": [
              "array([[-1.96813236e+01, -1.99916552e+01, -1.94187938e+01,\n",
              "        -1.92316361e+01, -1.38186976e+01, -9.51962673e+00,\n",
              "        -8.14413872e+00, -7.00000004e+00, -6.00000000e+00,\n",
              "        -5.00000000e+00],\n",
              "       [-2.03259529e+01, -2.02632715e+01, -1.90459365e+01,\n",
              "        -1.92364669e+01, -1.16461554e+01, -1.22036917e+01,\n",
              "        -8.00009992e+00, -8.94777208e+00, -6.74700108e+00,\n",
              "        -4.00000000e+00],\n",
              "       [-2.04933267e+01, -2.03023885e+01, -1.71364579e+01,\n",
              "        -1.44154961e+01, -1.54455239e+01, -9.00074329e+00,\n",
              "        -9.22928917e+00, -6.38500429e+00, -6.81563484e+00,\n",
              "        -3.00000000e+00],\n",
              "       [-1.50185900e+01, -1.40189429e+01, -1.30164027e+01,\n",
              "        -1.71320374e+01, -1.00027256e+01, -1.16405632e+01,\n",
              "        -1.11770191e+01,  1.00000000e+00, -5.30131294e+00,\n",
              "        -2.00000000e+00],\n",
              "       [-1.82187868e+01, -1.37917643e+01, -1.20116855e+01,\n",
              "        -1.10065651e+01, -1.42403224e+01, -1.22605880e+01,\n",
              "         1.00000000e+00, -2.20361001e+00, -6.91189231e-29,\n",
              "        -1.00000000e+00],\n",
              "       [-1.88718731e+01, -1.75324713e+01, -1.65216480e+01,\n",
              "        -1.54192723e+01, -1.32504086e+01,  1.00000000e+00,\n",
              "         1.00000000e+00, -5.22998539e-01, -2.63103353e+00,\n",
              "        -3.38184660e+00],\n",
              "       [-1.81452261e+01, -1.65275943e+01, -1.53778295e+01,\n",
              "        -1.42497599e+01,  1.00000000e+00,  1.00000000e+00,\n",
              "         1.00000000e+00,  1.00000000e+00, -1.23776847e+00,\n",
              "        -2.34859074e+00]])"
            ]
          },
          "metadata": {},
          "execution_count": 55
        }
      ]
    },
    {
      "cell_type": "code",
      "source": [
        "v(w,2)"
      ],
      "metadata": {
        "colab": {
          "base_uri": "https://localhost:8080/"
        },
        "id": "Zug6JwtQ_lbO",
        "outputId": "e4bf1cde-b66b-4f95-8b64-6b48ab725919"
      },
      "execution_count": null,
      "outputs": [
        {
          "output_type": "execute_result",
          "data": {
            "text/plain": [
              "-19.41879378385984"
            ]
          },
          "metadata": {},
          "execution_count": 61
        }
      ]
    },
    {
      "cell_type": "code",
      "source": [
        "np.set_printoptions(suppress=True)\n",
        "value_grid"
      ],
      "metadata": {
        "colab": {
          "base_uri": "https://localhost:8080/"
        },
        "id": "p0Q7S27f_leH",
        "outputId": "10f0fba0-cafd-4783-f532-26f77ff9bce0"
      },
      "execution_count": null,
      "outputs": [
        {
          "output_type": "execute_result",
          "data": {
            "text/plain": [
              "array([[-19.68132357, -19.99165518, -19.41879378, -19.23163609,\n",
              "        -13.81869757,  -9.51962673,  -8.14413872,  -7.00000004,\n",
              "         -6.        ,  -5.        ],\n",
              "       [-20.32595287, -20.26327153, -19.0459365 , -19.23646694,\n",
              "        -11.64615543, -12.20369166,  -8.00009992,  -8.94777208,\n",
              "         -6.74700108,  -4.        ],\n",
              "       [-20.49332666, -20.30238846, -17.13645794, -14.41549612,\n",
              "        -15.44552389,  -9.00074329,  -9.22928917,  -6.38500429,\n",
              "         -6.81563484,  -3.        ],\n",
              "       [-15.01858999, -14.01894289, -13.01640269, -17.1320374 ,\n",
              "        -10.00272561, -11.64056325, -11.17701912,   1.        ,\n",
              "         -5.30131294,  -2.        ],\n",
              "       [-18.21878682, -13.7917643 , -12.01168548, -11.00656511,\n",
              "        -14.2403224 , -12.26058798,   1.        ,  -2.20361001,\n",
              "         -0.        ,  -1.        ],\n",
              "       [-18.87187313, -17.53247126, -16.52164798, -15.41927231,\n",
              "        -13.2504086 ,   1.        ,   1.        ,  -0.52299854,\n",
              "         -2.63103353,  -3.3818466 ],\n",
              "       [-18.14522615, -16.52759426, -15.37782952, -14.24975993,\n",
              "          1.        ,   1.        ,   1.        ,   1.        ,\n",
              "         -1.23776847,  -2.34859074]])"
            ]
          },
          "metadata": {},
          "execution_count": 64
        }
      ]
    },
    {
      "cell_type": "code",
      "source": [
        "\n"
      ],
      "metadata": {
        "id": "X8VWcX25_lgr"
      },
      "execution_count": null,
      "outputs": []
    },
    {
      "cell_type": "code",
      "source": [
        "import pandas as pd\n",
        "df = pd.DataFrame(value_grid)"
      ],
      "metadata": {
        "id": "dbU5mQn3_ljM"
      },
      "execution_count": null,
      "outputs": []
    },
    {
      "cell_type": "code",
      "source": [
        "df"
      ],
      "metadata": {
        "colab": {
          "base_uri": "https://localhost:8080/",
          "height": 333
        },
        "id": "Z9LtgQBW_ll1",
        "outputId": "26e8c916-b460-43d0-ce40-51a18ffda895"
      },
      "execution_count": null,
      "outputs": [
        {
          "output_type": "execute_result",
          "data": {
            "text/plain": [
              "           0          1          2          3          4          5  \\\n",
              "0 -19.681324 -19.991655 -19.418794 -19.231636 -13.818698  -9.519627   \n",
              "1 -20.325953 -20.263272 -19.045937 -19.236467 -11.646155 -12.203692   \n",
              "2 -20.493327 -20.302388 -17.136458 -14.415496 -15.445524  -9.000743   \n",
              "3 -15.018590 -14.018943 -13.016403 -17.132037 -10.002726 -11.640563   \n",
              "4 -18.218787 -13.791764 -12.011685 -11.006565 -14.240322 -12.260588   \n",
              "5 -18.871873 -17.532471 -16.521648 -15.419272 -13.250409   1.000000   \n",
              "6 -18.145226 -16.527594 -15.377830 -14.249760   1.000000   1.000000   \n",
              "\n",
              "           6         7             8         9  \n",
              "0  -8.144139 -7.000000 -6.000000e+00 -5.000000  \n",
              "1  -8.000100 -8.947772 -6.747001e+00 -4.000000  \n",
              "2  -9.229289 -6.385004 -6.815635e+00 -3.000000  \n",
              "3 -11.177019  1.000000 -5.301313e+00 -2.000000  \n",
              "4   1.000000 -2.203610 -6.911892e-29 -1.000000  \n",
              "5   1.000000 -0.522999 -2.631034e+00 -3.381847  \n",
              "6   1.000000  1.000000 -1.237768e+00 -2.348591  "
            ],
            "text/html": [
              "\n",
              "  <div id=\"df-04ca3153-84c6-4dd4-9bbd-95183b4c8c33\">\n",
              "    <div class=\"colab-df-container\">\n",
              "      <div>\n",
              "<style scoped>\n",
              "    .dataframe tbody tr th:only-of-type {\n",
              "        vertical-align: middle;\n",
              "    }\n",
              "\n",
              "    .dataframe tbody tr th {\n",
              "        vertical-align: top;\n",
              "    }\n",
              "\n",
              "    .dataframe thead th {\n",
              "        text-align: right;\n",
              "    }\n",
              "</style>\n",
              "<table border=\"1\" class=\"dataframe\">\n",
              "  <thead>\n",
              "    <tr style=\"text-align: right;\">\n",
              "      <th></th>\n",
              "      <th>0</th>\n",
              "      <th>1</th>\n",
              "      <th>2</th>\n",
              "      <th>3</th>\n",
              "      <th>4</th>\n",
              "      <th>5</th>\n",
              "      <th>6</th>\n",
              "      <th>7</th>\n",
              "      <th>8</th>\n",
              "      <th>9</th>\n",
              "    </tr>\n",
              "  </thead>\n",
              "  <tbody>\n",
              "    <tr>\n",
              "      <th>0</th>\n",
              "      <td>-19.681324</td>\n",
              "      <td>-19.991655</td>\n",
              "      <td>-19.418794</td>\n",
              "      <td>-19.231636</td>\n",
              "      <td>-13.818698</td>\n",
              "      <td>-9.519627</td>\n",
              "      <td>-8.144139</td>\n",
              "      <td>-7.000000</td>\n",
              "      <td>-6.000000e+00</td>\n",
              "      <td>-5.000000</td>\n",
              "    </tr>\n",
              "    <tr>\n",
              "      <th>1</th>\n",
              "      <td>-20.325953</td>\n",
              "      <td>-20.263272</td>\n",
              "      <td>-19.045937</td>\n",
              "      <td>-19.236467</td>\n",
              "      <td>-11.646155</td>\n",
              "      <td>-12.203692</td>\n",
              "      <td>-8.000100</td>\n",
              "      <td>-8.947772</td>\n",
              "      <td>-6.747001e+00</td>\n",
              "      <td>-4.000000</td>\n",
              "    </tr>\n",
              "    <tr>\n",
              "      <th>2</th>\n",
              "      <td>-20.493327</td>\n",
              "      <td>-20.302388</td>\n",
              "      <td>-17.136458</td>\n",
              "      <td>-14.415496</td>\n",
              "      <td>-15.445524</td>\n",
              "      <td>-9.000743</td>\n",
              "      <td>-9.229289</td>\n",
              "      <td>-6.385004</td>\n",
              "      <td>-6.815635e+00</td>\n",
              "      <td>-3.000000</td>\n",
              "    </tr>\n",
              "    <tr>\n",
              "      <th>3</th>\n",
              "      <td>-15.018590</td>\n",
              "      <td>-14.018943</td>\n",
              "      <td>-13.016403</td>\n",
              "      <td>-17.132037</td>\n",
              "      <td>-10.002726</td>\n",
              "      <td>-11.640563</td>\n",
              "      <td>-11.177019</td>\n",
              "      <td>1.000000</td>\n",
              "      <td>-5.301313e+00</td>\n",
              "      <td>-2.000000</td>\n",
              "    </tr>\n",
              "    <tr>\n",
              "      <th>4</th>\n",
              "      <td>-18.218787</td>\n",
              "      <td>-13.791764</td>\n",
              "      <td>-12.011685</td>\n",
              "      <td>-11.006565</td>\n",
              "      <td>-14.240322</td>\n",
              "      <td>-12.260588</td>\n",
              "      <td>1.000000</td>\n",
              "      <td>-2.203610</td>\n",
              "      <td>-6.911892e-29</td>\n",
              "      <td>-1.000000</td>\n",
              "    </tr>\n",
              "    <tr>\n",
              "      <th>5</th>\n",
              "      <td>-18.871873</td>\n",
              "      <td>-17.532471</td>\n",
              "      <td>-16.521648</td>\n",
              "      <td>-15.419272</td>\n",
              "      <td>-13.250409</td>\n",
              "      <td>1.000000</td>\n",
              "      <td>1.000000</td>\n",
              "      <td>-0.522999</td>\n",
              "      <td>-2.631034e+00</td>\n",
              "      <td>-3.381847</td>\n",
              "    </tr>\n",
              "    <tr>\n",
              "      <th>6</th>\n",
              "      <td>-18.145226</td>\n",
              "      <td>-16.527594</td>\n",
              "      <td>-15.377830</td>\n",
              "      <td>-14.249760</td>\n",
              "      <td>1.000000</td>\n",
              "      <td>1.000000</td>\n",
              "      <td>1.000000</td>\n",
              "      <td>1.000000</td>\n",
              "      <td>-1.237768e+00</td>\n",
              "      <td>-2.348591</td>\n",
              "    </tr>\n",
              "  </tbody>\n",
              "</table>\n",
              "</div>\n",
              "      <button class=\"colab-df-convert\" onclick=\"convertToInteractive('df-04ca3153-84c6-4dd4-9bbd-95183b4c8c33')\"\n",
              "              title=\"Convert this dataframe to an interactive table.\"\n",
              "              style=\"display:none;\">\n",
              "        \n",
              "  <svg xmlns=\"http://www.w3.org/2000/svg\" height=\"24px\"viewBox=\"0 0 24 24\"\n",
              "       width=\"24px\">\n",
              "    <path d=\"M0 0h24v24H0V0z\" fill=\"none\"/>\n",
              "    <path d=\"M18.56 5.44l.94 2.06.94-2.06 2.06-.94-2.06-.94-.94-2.06-.94 2.06-2.06.94zm-11 1L8.5 8.5l.94-2.06 2.06-.94-2.06-.94L8.5 2.5l-.94 2.06-2.06.94zm10 10l.94 2.06.94-2.06 2.06-.94-2.06-.94-.94-2.06-.94 2.06-2.06.94z\"/><path d=\"M17.41 7.96l-1.37-1.37c-.4-.4-.92-.59-1.43-.59-.52 0-1.04.2-1.43.59L10.3 9.45l-7.72 7.72c-.78.78-.78 2.05 0 2.83L4 21.41c.39.39.9.59 1.41.59.51 0 1.02-.2 1.41-.59l7.78-7.78 2.81-2.81c.8-.78.8-2.07 0-2.86zM5.41 20L4 18.59l7.72-7.72 1.47 1.35L5.41 20z\"/>\n",
              "  </svg>\n",
              "      </button>\n",
              "      \n",
              "  <style>\n",
              "    .colab-df-container {\n",
              "      display:flex;\n",
              "      flex-wrap:wrap;\n",
              "      gap: 12px;\n",
              "    }\n",
              "\n",
              "    .colab-df-convert {\n",
              "      background-color: #E8F0FE;\n",
              "      border: none;\n",
              "      border-radius: 50%;\n",
              "      cursor: pointer;\n",
              "      display: none;\n",
              "      fill: #1967D2;\n",
              "      height: 32px;\n",
              "      padding: 0 0 0 0;\n",
              "      width: 32px;\n",
              "    }\n",
              "\n",
              "    .colab-df-convert:hover {\n",
              "      background-color: #E2EBFA;\n",
              "      box-shadow: 0px 1px 2px rgba(60, 64, 67, 0.3), 0px 1px 3px 1px rgba(60, 64, 67, 0.15);\n",
              "      fill: #174EA6;\n",
              "    }\n",
              "\n",
              "    [theme=dark] .colab-df-convert {\n",
              "      background-color: #3B4455;\n",
              "      fill: #D2E3FC;\n",
              "    }\n",
              "\n",
              "    [theme=dark] .colab-df-convert:hover {\n",
              "      background-color: #434B5C;\n",
              "      box-shadow: 0px 1px 3px 1px rgba(0, 0, 0, 0.15);\n",
              "      filter: drop-shadow(0px 1px 2px rgba(0, 0, 0, 0.3));\n",
              "      fill: #FFFFFF;\n",
              "    }\n",
              "  </style>\n",
              "\n",
              "      <script>\n",
              "        const buttonEl =\n",
              "          document.querySelector('#df-04ca3153-84c6-4dd4-9bbd-95183b4c8c33 button.colab-df-convert');\n",
              "        buttonEl.style.display =\n",
              "          google.colab.kernel.accessAllowed ? 'block' : 'none';\n",
              "\n",
              "        async function convertToInteractive(key) {\n",
              "          const element = document.querySelector('#df-04ca3153-84c6-4dd4-9bbd-95183b4c8c33');\n",
              "          const dataTable =\n",
              "            await google.colab.kernel.invokeFunction('convertToInteractive',\n",
              "                                                     [key], {});\n",
              "          if (!dataTable) return;\n",
              "\n",
              "          const docLinkHtml = 'Like what you see? Visit the ' +\n",
              "            '<a target=\"_blank\" href=https://colab.research.google.com/notebooks/data_table.ipynb>data table notebook</a>'\n",
              "            + ' to learn more about interactive tables.';\n",
              "          element.innerHTML = '';\n",
              "          dataTable['output_type'] = 'display_data';\n",
              "          await google.colab.output.renderOutput(dataTable, element);\n",
              "          const docLink = document.createElement('div');\n",
              "          docLink.innerHTML = docLinkHtml;\n",
              "          element.appendChild(docLink);\n",
              "        }\n",
              "      </script>\n",
              "    </div>\n",
              "  </div>\n",
              "  "
            ]
          },
          "metadata": {},
          "execution_count": 75
        }
      ]
    },
    {
      "cell_type": "code",
      "source": [
        ""
      ],
      "metadata": {
        "colab": {
          "base_uri": "https://localhost:8080/"
        },
        "id": "kuq2jtdwEmWz",
        "outputId": "38a98f89-68bf-4bce-9bd9-a6d91fce6d83"
      },
      "execution_count": null,
      "outputs": [
        {
          "output_type": "execute_result",
          "data": {
            "text/plain": [
              "[0.00019894640973936288,\n",
              " 0.998190196643765,\n",
              " 0.0007128843833002108,\n",
              " 0.0008979725631954532]"
            ]
          },
          "metadata": {},
          "execution_count": 77
        }
      ]
    },
    {
      "cell_type": "code",
      "source": [
        ""
      ],
      "metadata": {
        "id": "zp1Vc97jEmZq"
      },
      "execution_count": null,
      "outputs": []
    },
    {
      "cell_type": "code",
      "source": [
        ""
      ],
      "metadata": {
        "id": "btIWhosQEmcE"
      },
      "execution_count": null,
      "outputs": []
    },
    {
      "cell_type": "code",
      "source": [
        ""
      ],
      "metadata": {
        "id": "peumrAvrEmey"
      },
      "execution_count": null,
      "outputs": []
    },
    {
      "cell_type": "code",
      "source": [
        ""
      ],
      "metadata": {
        "id": "LA_yWQjYEmhb"
      },
      "execution_count": null,
      "outputs": []
    },
    {
      "cell_type": "code",
      "source": [
        ""
      ],
      "metadata": {
        "id": "iSCEc0beEmkO"
      },
      "execution_count": null,
      "outputs": []
    },
    {
      "cell_type": "code",
      "source": [
        ""
      ],
      "metadata": {
        "id": "lFKdFYQtEmnH"
      },
      "execution_count": null,
      "outputs": []
    }
  ],
  "metadata": {
    "kernelspec": {
      "display_name": "Python 3",
      "language": "python",
      "name": "python3"
    },
    "language_info": {
      "codemirror_mode": {
        "name": "ipython",
        "version": 3
      },
      "file_extension": ".py",
      "mimetype": "text/x-python",
      "name": "python",
      "nbconvert_exporter": "python",
      "pygments_lexer": "ipython3",
      "version": "3.8.10"
    },
    "colab": {
      "name": "chemotaxis___.ipynb",
      "provenance": [],
      "include_colab_link": true
    }
  },
  "nbformat": 4,
  "nbformat_minor": 0
}