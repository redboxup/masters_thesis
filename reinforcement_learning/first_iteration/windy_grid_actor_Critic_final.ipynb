{
  "cells": [
    {
      "cell_type": "code",
      "execution_count": null,
      "metadata": {
        "id": "dGJiazqfinr5"
      },
      "outputs": [],
      "source": [
        "import gym\n",
        "import numpy as np\n",
        "import sys\n",
        "if \"../\" not in sys.path:\n",
        "    sys.path.append(\"../\")\n",
        "from collections import defaultdict\n",
        "\n",
        "import itertools\n",
        "import collections\n",
        "from typing import Any,List,Sequence,Tuple\n",
        "import tqdm\n",
        "# Small epsilon value for stabilizing division operations\n",
        "eps = np.finfo(np.float32).eps.item()\n"
      ]
    },
    {
      "cell_type": "code",
      "source": [
        "#@title Environment of Windy grid\n",
        "import gym\n",
        "import numpy as np\n",
        "import sys\n",
        "from gym.envs.toy_text import discrete\n",
        "\n",
        "UP = 0\n",
        "RIGHT = 1\n",
        "DOWN = 2\n",
        "LEFT = 3\n",
        "\n",
        "class WindyGridworldEnv(discrete.DiscreteEnv):\n",
        "\n",
        "    metadata = {'render.modes': ['human', 'ansi']}\n",
        "\n",
        "    def _limit_coordinates(self, coord):\n",
        "        coord[0] = min(coord[0], self.shape[0] - 1)\n",
        "        coord[0] = max(coord[0], 0)\n",
        "        coord[1] = min(coord[1], self.shape[1] - 1)\n",
        "        coord[1] = max(coord[1], 0)\n",
        "        return coord\n",
        "\n",
        "    def _calculate_transition_prob(self, current, delta, winds):\n",
        "        new_position = np.array(current) + np.array(delta) + np.array([-1, 0]) * winds[tuple(current)]\n",
        "        new_position = self._limit_coordinates(new_position).astype(int)\n",
        "        new_state = np.ravel_multi_index(tuple(new_position), self.shape)\n",
        "        is_done = tuple(new_position) == (3, 7)\n",
        "        return [(1.0, new_state, -1.0, is_done)]\n",
        "\n",
        "    def __init__(self):\n",
        "        self.shape = (7, 10)\n",
        "\n",
        "        nS = np.prod(self.shape)\n",
        "        nA = 4\n",
        "\n",
        "        # Wind strength\n",
        "        winds = np.zeros(self.shape)\n",
        "        winds[:,[3,4,5,8]] = 1\n",
        "        winds[:,[6,7]] = 2\n",
        "\n",
        "        # Calculate transition probabilities\n",
        "        P = {}\n",
        "        for s in range(nS):\n",
        "            position = np.unravel_index(s, self.shape)\n",
        "            P[s] = { a : [] for a in range(nA) }\n",
        "            P[s][UP] = self._calculate_transition_prob(position, [-1, 0], winds)\n",
        "            P[s][RIGHT] = self._calculate_transition_prob(position, [0, 1], winds)\n",
        "            P[s][DOWN] = self._calculate_transition_prob(position, [1, 0], winds)\n",
        "            P[s][LEFT] = self._calculate_transition_prob(position, [0, -1], winds)\n",
        "\n",
        "        # We always start in state (3, 0)\n",
        "        isd = np.zeros(nS)\n",
        "        isd[np.ravel_multi_index((3,0), self.shape)] = 1.0\n",
        "\n",
        "        super(WindyGridworldEnv, self).__init__(nS, nA, P, isd)\n",
        "\n",
        "    def render(self, mode='human', close=False):\n",
        "        self._render(mode, close)\n",
        "\n",
        "    def _render(self, mode='human', close=False):\n",
        "        if close:\n",
        "            return\n",
        "\n",
        "        outfile = StringIO() if mode == 'ansi' else sys.stdout\n",
        "\n",
        "        for s in range(self.nS):\n",
        "            position = np.unravel_index(s, self.shape)\n",
        "            # print(self.s)\n",
        "            if self.s == s:\n",
        "                output = \" x \"\n",
        "            elif position == (3,7):\n",
        "                output = \" T \"\n",
        "            else:\n",
        "                output = \" o \"\n",
        "\n",
        "            if position[1] == 0:\n",
        "                output = output.lstrip()\n",
        "            if position[1] == self.shape[1] - 1:\n",
        "                output = output.rstrip()\n",
        "                output += \"\\n\"\n",
        "\n",
        "            outfile.write(output)\n",
        "        outfile.write(\"\\n\")"
      ],
      "metadata": {
        "cellView": "form",
        "id": "wIgPmLhBi5H-"
      },
      "execution_count": null,
      "outputs": []
    },
    {
      "cell_type": "code",
      "execution_count": null,
      "metadata": {
        "id": "15Gh-b5PinsC"
      },
      "outputs": [],
      "source": [
        "env = WindyGridworldEnv()"
      ]
    },
    {
      "cell_type": "code",
      "execution_count": null,
      "metadata": {
        "colab": {
          "base_uri": "https://localhost:8080/"
        },
        "id": "bY9L8Y53insF",
        "outputId": "ae1fc08d-d8ff-49ae-de10-ecb62f95f8f9"
      },
      "outputs": [
        {
          "output_type": "stream",
          "name": "stdout",
          "text": [
            "30\n"
          ]
        }
      ],
      "source": [
        "print(env.reset())"
      ]
    },
    {
      "cell_type": "code",
      "execution_count": null,
      "metadata": {
        "colab": {
          "base_uri": "https://localhost:8080/"
        },
        "id": "DdBKO0MZinsI",
        "outputId": "33a43d9a-b456-4c86-afe3-bd29fba6826f"
      },
      "outputs": [
        {
          "output_type": "stream",
          "name": "stdout",
          "text": [
            "o  o  o  o  o  o  o  o  o  o\n",
            "o  o  o  o  o  o  o  o  o  o\n",
            "o  o  o  o  o  o  o  o  o  o\n",
            "x  o  o  o  o  o  o  T  o  o\n",
            "o  o  o  o  o  o  o  o  o  o\n",
            "o  o  o  o  o  o  o  o  o  o\n",
            "o  o  o  o  o  o  o  o  o  o\n",
            "\n"
          ]
        }
      ],
      "source": [
        "env.render()"
      ]
    },
    {
      "cell_type": "code",
      "source": [
        "# Up:0; Right:1; Down:2; Left:3; \n",
        "env.step(2)\n",
        "env.render()"
      ],
      "metadata": {
        "colab": {
          "base_uri": "https://localhost:8080/"
        },
        "id": "eRWRgSualV_z",
        "outputId": "746654cb-056f-4b1c-b17a-6277918cbb68"
      },
      "execution_count": null,
      "outputs": [
        {
          "output_type": "stream",
          "name": "stdout",
          "text": [
            "o  o  o  o  o  o  o  o  o  o\n",
            "o  o  o  o  o  o  o  o  o  o\n",
            "o  o  o  o  o  o  o  o  o  o\n",
            "o  o  o  o  o  o  o  T  o  o\n",
            "x  o  o  o  o  o  o  o  o  o\n",
            "o  o  o  o  o  o  o  o  o  o\n",
            "o  o  o  o  o  o  o  o  o  o\n",
            "\n"
          ]
        }
      ]
    },
    {
      "cell_type": "code",
      "source": [
        "env.reset()"
      ],
      "metadata": {
        "colab": {
          "base_uri": "https://localhost:8080/"
        },
        "id": "FLbNQW-5luu1",
        "outputId": "1a890eb4-fe14-4a07-8f6d-2df58b8a139a"
      },
      "execution_count": null,
      "outputs": [
        {
          "output_type": "execute_result",
          "data": {
            "text/plain": [
              "30"
            ]
          },
          "metadata": {},
          "execution_count": 7
        }
      ]
    },
    {
      "cell_type": "code",
      "source": [
        "#policy neural network\n",
        "#let us initialise parameters in a q matrix of size N_a x N_s\n",
        "q = np.ones([4,70])\n",
        "#let us define a function that will return z(s,a) matrices\n",
        "def z(state,action):\n",
        "  z_ = np.zeros([70,4])\n",
        "  z_[state][action] = 1\n",
        "  return z_"
      ],
      "metadata": {
        "id": "yI4NQMTDrKe9"
      },
      "execution_count": null,
      "outputs": []
    },
    {
      "cell_type": "code",
      "source": [
        "#let us now define the h function\n",
        "def h(s_i,a_j):\n",
        "  z_ = z(s_i,a_j)\n",
        "  h_ = q[a_j][s_i]*z_[s_i][a_j]\n",
        "  return h_"
      ],
      "metadata": {
        "id": "5D-bI0ErVG9u"
      },
      "execution_count": null,
      "outputs": []
    },
    {
      "cell_type": "code",
      "source": [
        "q[3][5] = 1\n",
        "h(5,3)\n",
        "np.exp(h(5,3))"
      ],
      "metadata": {
        "colab": {
          "base_uri": "https://localhost:8080/"
        },
        "id": "a7uGB2o3VHAU",
        "outputId": "fab6081e-a105-433f-e9d6-2c8d8c7d5cc4"
      },
      "execution_count": null,
      "outputs": [
        {
          "output_type": "execute_result",
          "data": {
            "text/plain": [
              "2.718281828459045"
            ]
          },
          "metadata": {},
          "execution_count": 10
        }
      ]
    },
    {
      "cell_type": "code",
      "source": [
        "#now let us define the policy function\n",
        "def policy(state):\n",
        "  sum = 0\n",
        "  p = []\n",
        "  for j in range(4):\n",
        "    sum += np.exp(h(state,j))\n",
        "  #now probability corresponding to the action\n",
        "  for j in range(4):\n",
        "    p_ = np.exp(h(state,j))/sum\n",
        "    p.append(p_)\n",
        "  return p"
      ],
      "metadata": {
        "id": "uvBzUGzFVHDu"
      },
      "execution_count": null,
      "outputs": []
    },
    {
      "cell_type": "code",
      "source": [
        "#code to sample an action from given probability distribution\n",
        "def sample_action(state):\n",
        "  prob_action = policy(state)\n",
        "  action = np.random.choice(np.arange(4),p = prob_action)\n",
        "  return action"
      ],
      "metadata": {
        "id": "gbgBHqO1jPAi"
      },
      "execution_count": null,
      "outputs": []
    },
    {
      "cell_type": "code",
      "source": [
        "policy(50)"
      ],
      "metadata": {
        "colab": {
          "base_uri": "https://localhost:8080/"
        },
        "id": "HFVVw9RPkYTW",
        "outputId": "4e13da0c-fb0e-4d87-c25f-e7a5e298a925"
      },
      "execution_count": null,
      "outputs": [
        {
          "output_type": "execute_result",
          "data": {
            "text/plain": [
              "[0.25, 0.25, 0.25, 0.25]"
            ]
          },
          "metadata": {},
          "execution_count": 13
        }
      ]
    },
    {
      "cell_type": "code",
      "source": [
        "sample_action(50)"
      ],
      "metadata": {
        "colab": {
          "base_uri": "https://localhost:8080/"
        },
        "id": "sFc-ZyK0VHIT",
        "outputId": "83c2597a-09b9-4790-d5b1-5cb78a68aab0"
      },
      "execution_count": null,
      "outputs": [
        {
          "output_type": "execute_result",
          "data": {
            "text/plain": [
              "0"
            ]
          },
          "metadata": {},
          "execution_count": 14
        }
      ]
    },
    {
      "cell_type": "code",
      "source": [
        "#convert state into is feature vector\n",
        "def y(s):\n",
        "  s_v = np.zeros(70)\n",
        "  s_v[s] = 1\n",
        "  return s_v"
      ],
      "metadata": {
        "id": "vJkqbdyoE5pV"
      },
      "execution_count": null,
      "outputs": []
    },
    {
      "cell_type": "code",
      "execution_count": null,
      "metadata": {
        "id": "GSJIc2Lcinsf"
      },
      "outputs": [],
      "source": [
        "#state-value function linear approximation\n",
        "def v(w,s):\n",
        "  s_v = y(s)\n",
        "  return np.dot(w.T,s_v)\n",
        "\n",
        "#gradient of state-value function\n",
        "def grad_v(w,s):\n",
        "  s_v = y(s)\n",
        "  return s_v\n",
        "\n",
        "#let us initialise weights of the state-value function\n",
        "#w = np.random.rand(70)\n",
        "w = np.ones(70)"
      ]
    },
    {
      "cell_type": "code",
      "source": [
        "#let us get some expected value\n",
        "v(w,50)"
      ],
      "metadata": {
        "id": "hPOta3ZrrzgE",
        "colab": {
          "base_uri": "https://localhost:8080/"
        },
        "outputId": "2d1d2182-1e0b-4ec9-f231-5389e7ef825b"
      },
      "execution_count": null,
      "outputs": [
        {
          "output_type": "execute_result",
          "data": {
            "text/plain": [
              "1.0"
            ]
          },
          "metadata": {},
          "execution_count": 17
        }
      ]
    },
    {
      "cell_type": "code",
      "source": [
        "#main part of the code\n",
        "#initialising step-size vector\n",
        "alpha = 0.001\n",
        "alpha_w = alpha*np.ones(np.shape(w))\n",
        "alpha_q = alpha*np.ones(np.shape(q))"
      ],
      "metadata": {
        "id": "iJHO4u1NrzoB"
      },
      "execution_count": null,
      "outputs": []
    },
    {
      "cell_type": "code",
      "source": [
        "#defining important parameters\n",
        "gamma = 1"
      ],
      "metadata": {
        "id": "fzVnyHEkt-Cs"
      },
      "execution_count": null,
      "outputs": []
    },
    {
      "cell_type": "code",
      "source": [
        "#loop forever(for each episode)\n",
        "def run_episode(q,w):\n",
        "  #first state will be\n",
        "  state = env.reset()\n",
        "  is_done = False \n",
        "  I = 1\n",
        "  #loop while S is not terminal for each time step\n",
        "  no_step = 0\n",
        "  total_reward = 0\n",
        "  while is_done == False:\n",
        "    #sample an action using the policy\n",
        "    action = sample_action(state)\n",
        "    #take the action A, observe S', R\n",
        "    new_state, reward, is_done, _ = env.step(action)\n",
        "    if is_done == True:\n",
        "      delta = reward + gamma*0 -v(w,state)\n",
        "    else:\n",
        "      delta = reward + gamma*v(w,new_state) -v(w,state)\n",
        "    #defining some important parameters\n",
        "    r_exp = reward + v(w,new_state)\n",
        "    beta = r_exp - v(w,state)\n",
        "    #now we will update the weight parameters\n",
        "    #using adam-algorithm we will write the standard stochastic gradient descent as\n",
        "    z_times_policy = 0\n",
        "    prob_action = policy(state)\n",
        "    for i in range(4):\n",
        "      z_times_policy += prob_action[i]*z(state,i)\n",
        "    z_ = z(state,action)\n",
        "    z_times_policy = z_times_policy.transpose()\n",
        "    z_ = z_.transpose()\n",
        "    q += alpha*beta*(z_-z_times_policy)\n",
        "    w += alpha*beta*y(state)\n",
        "    no_step += 1\n",
        "    total_reward += reward\n",
        "    #print(state,action,reward,no_step)\n",
        "    state = new_state\n",
        "  return no_step,total_reward"
      ],
      "metadata": {
        "id": "fpBBg5vOg1p3"
      },
      "execution_count": null,
      "outputs": []
    },
    {
      "cell_type": "code",
      "source": [
        "#to run an episode but not update its values\n",
        "def run_episode_dont_update(q,w):\n",
        "  state = env.reset()\n",
        "  is_done = False\n",
        "  #loop while S is not terminal for each time step\n",
        "  no_step = 0\n",
        "  total_reward = 0\n",
        "  while is_done == False:\n",
        "    action = sample_action(state)\n",
        "    new_state, reward, is_done, _ = env.step(action)\n",
        "    no_step += 1\n",
        "    total_reward += reward\n",
        "    state = new_state\n",
        "  return no_step,total_reward"
      ],
      "metadata": {
        "id": "Xw8vg4Ts2SJx"
      },
      "execution_count": null,
      "outputs": []
    },
    {
      "cell_type": "code",
      "source": [
        "steps,G = run_episode(q,w)\n",
        "print(steps,G)"
      ],
      "metadata": {
        "colab": {
          "base_uri": "https://localhost:8080/"
        },
        "id": "6crTR9WBg2Ah",
        "outputId": "538ac1b8-ef2a-459c-ad90-0df22a7db97a"
      },
      "execution_count": null,
      "outputs": [
        {
          "output_type": "stream",
          "name": "stdout",
          "text": [
            "215 -215.0\n"
          ]
        }
      ]
    },
    {
      "cell_type": "code",
      "source": [
        "#let us find the mean for the model\n",
        "steps, G = run_episode_dont_update(q,w)\n",
        "print(steps,G)"
      ],
      "metadata": {
        "colab": {
          "base_uri": "https://localhost:8080/"
        },
        "id": "NYOTXSwK38FD",
        "outputId": "a371beb4-4b8b-441b-a832-0ec57ba355cc"
      },
      "execution_count": null,
      "outputs": [
        {
          "output_type": "stream",
          "name": "stdout",
          "text": [
            "368 -368.0\n"
          ]
        }
      ]
    },
    {
      "cell_type": "code",
      "source": [
        "#let us create a plot to see how the model behaves over 150 episodes\n",
        "reward_tot = []\n",
        "no_episodes = []\n",
        "tot_episodes = 0\n",
        "N = 150\n",
        "for i in range(20):\n",
        "  rew = 0\n",
        "  for j in range(N):\n",
        "    steps,rew_temp = run_episode_dont_update(q,w)\n",
        "    rew += rew_temp\n",
        "  rew_avg = rew/N\n",
        "  reward_tot.append(rew_avg)\n",
        "  no_episodes.append(tot_episodes)\n",
        "  #now we will train the model for 100 episodes with updates\n",
        "  for j in range(100):\n",
        "    a, b = run_episode(q,w)\n",
        "  tot_episodes += 100"
      ],
      "metadata": {
        "id": "QxJHIdofj6BD"
      },
      "execution_count": null,
      "outputs": []
    },
    {
      "cell_type": "code",
      "source": [
        "print(reward_tot)"
      ],
      "metadata": {
        "id": "_LvyR5fkj6PD",
        "colab": {
          "base_uri": "https://localhost:8080/"
        },
        "outputId": "f7e76a96-c7f7-49a0-e45d-8cb62f2ba122"
      },
      "execution_count": null,
      "outputs": [
        {
          "output_type": "stream",
          "name": "stdout",
          "text": [
            "[-6704.953333333333, -647.36, -267.29333333333335, -233.06, -204.05333333333334, -162.34, -138.18, -121.61333333333333, -113.12666666666667, -111.68, -108.72666666666667, -88.00666666666666, -84.92, -82.28, -81.19333333333333, -72.96, -70.62, -69.10666666666667, -63.32666666666667, -61.906666666666666]\n"
          ]
        }
      ]
    },
    {
      "cell_type": "code",
      "source": [
        "print(no_episodes)"
      ],
      "metadata": {
        "id": "jOHJJjERrzws",
        "colab": {
          "base_uri": "https://localhost:8080/"
        },
        "outputId": "d7334cc7-4eb7-471d-bc52-350255c2d25c"
      },
      "execution_count": null,
      "outputs": [
        {
          "output_type": "stream",
          "name": "stdout",
          "text": [
            "[0, 100, 200, 300, 400, 500, 600, 700, 800, 900, 1000, 1100, 1200, 1300, 1400, 1500, 1600, 1700, 1800, 1900]\n"
          ]
        }
      ]
    },
    {
      "cell_type": "code",
      "source": [
        "#let us plot the above results\n",
        "import matplotlib.pyplot as plt\n",
        "plt.plot(no_episodes,reward_tot)\n",
        "plt.xlabel(\"No. of episodes\")\n",
        "plt.ylabel(\"Total Reward\")\n",
        "plt.figure(figsize=(15,10))\n"
      ],
      "metadata": {
        "colab": {
          "base_uri": "https://localhost:8080/",
          "height": 531
        },
        "id": "29WYp7679kHw",
        "outputId": "dc30430e-9c90-4eab-8d33-90009cb7ac5f"
      },
      "execution_count": null,
      "outputs": [
        {
          "output_type": "execute_result",
          "data": {
            "text/plain": [
              "<Figure size 1080x720 with 0 Axes>"
            ]
          },
          "metadata": {},
          "execution_count": 39
        },
        {
          "output_type": "display_data",
          "data": {
            "text/plain": [
              "<Figure size 1080x720 with 1 Axes>"
            ],
            "image/png": "[encoded data removed]"
          },
          "metadata": {}
        },
        {
          "output_type": "display_data",
          "data": {
            "text/plain": [
              "<Figure size 1080x720 with 0 Axes>"
            ]
          },
          "metadata": {}
        }
      ]
    },
    {
      "cell_type": "code",
      "source": [
        "#now we want to plot all the trajectories to see what the density is like\n",
        "def state2coord(state):\n",
        "  a,b = divmod(state,10)\n",
        "  return a,b"
      ],
      "metadata": {
        "id": "jnkYl0h_9kKl"
      },
      "execution_count": null,
      "outputs": []
    },
    {
      "cell_type": "code",
      "source": [
        ""
      ],
      "metadata": {
        "id": "eauKBZpUAKyr"
      },
      "execution_count": null,
      "outputs": []
    },
    {
      "cell_type": "code",
      "source": [
        "#we want to write a function that will give a count of each trajectory\n",
        "times_visited = np.zeros([7,10])\n",
        "#we will sample 50 trajectories and keep a count of each state visited\n",
        "no_steps = []\n",
        "Tot_steps = 0\n",
        "for t in range(50):\n",
        "  state = env.reset()\n",
        "  times_visited[3][0] += 1\n",
        "  no_steps_this_loop = 0\n",
        "  is_done = False\n",
        "  while is_done == False:\n",
        "    action = sample_action(state)\n",
        "    new_state, reward, is_done, _ = env.step(action)\n",
        "    state = new_state\n",
        "    a,b = divmod(state,10)\n",
        "    times_visited[a][b] += 1\n",
        "    no_steps_this_loop +=1\n",
        "    Tot_steps += 1\n",
        "  no_steps.append(no_steps_this_loop)"
      ],
      "metadata": {
        "id": "tsuRD7-kAK1P"
      },
      "execution_count": null,
      "outputs": []
    },
    {
      "cell_type": "code",
      "source": [
        "av_steps = Tot_steps/50\n",
        "print(av_steps)"
      ],
      "metadata": {
        "colab": {
          "base_uri": "https://localhost:8080/"
        },
        "id": "PNKsXFx3AK36",
        "outputId": "26a62e53-b086-4049-b8ef-9c9780f8772a"
      },
      "execution_count": null,
      "outputs": [
        {
          "output_type": "stream",
          "name": "stdout",
          "text": [
            "67.66\n"
          ]
        }
      ]
    },
    {
      "cell_type": "code",
      "source": [
        "times_visited"
      ],
      "metadata": {
        "colab": {
          "base_uri": "https://localhost:8080/"
        },
        "id": "o4aFLmC_AK6i",
        "outputId": "cfb5502d-4ec3-4e2c-b2a7-a578a6c4c3ab"
      },
      "execution_count": null,
      "outputs": [
        {
          "output_type": "execute_result",
          "data": {
            "text/plain": [
              "array([[ 40.,  35.,  83.,  73.,  61.,  42.,  39.,  75.,  95.,  96.],\n",
              "       [ 37.,  39.,  65.,  41.,  53.,  59.,  38.,  19.,   7.,  90.],\n",
              "       [ 43.,  53.,  73.,  27., 111.,  67.,  35.,   9.,  17.,  87.],\n",
              "       [101.,  50.,  72.,  44.,  54.,  79.,  15.,  50.,  17.,  78.],\n",
              "       [ 76.,  50.,  84.,  35.,  62.,  37.,   0.,  10.,  51.,  77.],\n",
              "       [ 81.,  70., 111.,  87.,  53.,   0.,   0.,   3.,  17.,  36.],\n",
              "       [ 63.,  64.,  80.,  67.,   0.,   0.,   0.,   0.,  20.,  30.]])"
            ]
          },
          "metadata": {},
          "execution_count": 46
        }
      ]
    },
    {
      "cell_type": "code",
      "source": [
        "import seaborn as sns\n",
        "sns.set(rc = {'figure.figsize':(15,10)})\n",
        "ax = sns.heatmap(times_visited,linewidth = 0.5)"
      ],
      "metadata": {
        "colab": {
          "base_uri": "https://localhost:8080/",
          "height": 547
        },
        "id": "Pp6CFecPJfps",
        "outputId": "cd2d400d-6249-4f3d-a58d-3a95961511bf"
      },
      "execution_count": null,
      "outputs": [
        {
          "output_type": "display_data",
          "data": {
            "text/plain": [
              "<Figure size 1080x720 with 2 Axes>"
            ],
            "image/png": "[encoded data removed]"
          },
          "metadata": {}
        }
      ]
    },
    {
      "cell_type": "code",
      "source": [
        ""
      ],
      "metadata": {
        "id": "g1hcb9uaJfsj"
      },
      "execution_count": null,
      "outputs": []
    },
    {
      "cell_type": "code",
      "source": [
        ""
      ],
      "metadata": {
        "id": "9lOglS9xJfvK"
      },
      "execution_count": null,
      "outputs": []
    },
    {
      "cell_type": "code",
      "source": [
        ""
      ],
      "metadata": {
        "id": "6qExdyxDJfyN"
      },
      "execution_count": null,
      "outputs": []
    }
  ],
  "metadata": {
    "kernelspec": {
      "display_name": "Python 3",
      "language": "python",
      "name": "python3"
    },
    "language_info": {
      "codemirror_mode": {
        "name": "ipython",
        "version": 3
      },
      "file_extension": ".py",
      "mimetype": "text/x-python",
      "name": "python",
      "nbconvert_exporter": "python",
      "pygments_lexer": "ipython3",
      "version": "3.8.10"
    },
    "colab": {
      "name": "windy_grid_actor_Critic_final.ipynb",
      "provenance": []
    }
  },
  "nbformat": 4,
  "nbformat_minor": 0
}